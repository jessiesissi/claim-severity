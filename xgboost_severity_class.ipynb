{
 "cells": [
  {
   "cell_type": "code",
   "execution_count": 1,
   "metadata": {},
   "outputs": [],
   "source": [
    "import numpy as np\n",
    "import pandas as pd\n",
    "import matplotlib.pyplot as plt"
   ]
  },
  {
   "cell_type": "code",
   "execution_count": 1,
   "metadata": {},
   "outputs": [],
   "source": [
    "# data = pd.read_csv('severity_class.csv')"
   ]
  },
  {
   "cell_type": "code",
   "execution_count": null,
   "metadata": {},
   "outputs": [],
   "source": [
    "data.head()"
   ]
  },
  {
   "cell_type": "code",
   "execution_count": 4,
   "metadata": {},
   "outputs": [
    {
     "name": "stdout",
     "output_type": "stream",
     "text": [
      "(6830, 14610)\n"
     ]
    }
   ],
   "source": [
    "data = data.drop(['Policynumber', 'Total_Incurred'], axis = 1)\n",
    "print(data.shape)"
   ]
  },
  {
   "cell_type": "code",
   "execution_count": 5,
   "metadata": {},
   "outputs": [
    {
     "name": "stdout",
     "output_type": "stream",
     "text": [
      "(6830, 14609)\n",
      "(6830,)\n"
     ]
    }
   ],
   "source": [
    "y = np.array(data.severity_class)\n",
    "X = np.array(data.drop(['severity_class'], axis = 1))\n",
    "print (X.shape)\n",
    "print (y.shape)"
   ]
  },
  {
   "cell_type": "code",
   "execution_count": 7,
   "metadata": {
    "collapsed": true
   },
   "outputs": [],
   "source": [
    "from sklearn.decomposition import PCA"
   ]
  },
  {
   "cell_type": "code",
   "execution_count": 22,
   "metadata": {},
   "outputs": [],
   "source": [
    "pca = PCA(n_components = 200)\n",
    "X_new = pca.fit_transform(X)"
   ]
  },
  {
   "cell_type": "code",
   "execution_count": null,
   "metadata": {
    "collapsed": true
   },
   "outputs": [],
   "source": []
  },
  {
   "cell_type": "code",
   "execution_count": null,
   "metadata": {
    "collapsed": true
   },
   "outputs": [],
   "source": []
  },
  {
   "cell_type": "code",
   "execution_count": 23,
   "metadata": {},
   "outputs": [],
   "source": [
    "from sklearn.cross_validation import train_test_split\n",
    "X_train, X_test,y_train, y_test = train_test_split(X_new, y, test_size = 0.3, random_state = 10)"
   ]
  },
  {
   "cell_type": "code",
   "execution_count": 24,
   "metadata": {},
   "outputs": [
    {
     "name": "stdout",
     "output_type": "stream",
     "text": [
      "(4781, 200) (2049, 200) (4781,) (2049,)\n"
     ]
    }
   ],
   "source": [
    "print(X_train.shape, X_test.shape, y_train.shape, y_test.shape)"
   ]
  },
  {
   "cell_type": "code",
   "execution_count": 11,
   "metadata": {
    "collapsed": true
   },
   "outputs": [],
   "source": [
    "import time\n",
    "import xgboost as xgb"
   ]
  },
  {
   "cell_type": "code",
   "execution_count": 30,
   "metadata": {
    "collapsed": true
   },
   "outputs": [],
   "source": [
    "from sklearn.model_selection import GridSearchCV"
   ]
  },
  {
   "cell_type": "code",
   "execution_count": 28,
   "metadata": {
    "collapsed": true
   },
   "outputs": [],
   "source": [
    "cv_params = {'learning_rate':[0.05, 0.1], 'n_estimators':[20, 40, 60, 80, 100]} \n",
    "\n",
    "other_params = {'learning_rate': 0.05, 'n_estimators': 80, 'max_depth': 9, 'min_child_weight': 5, 'seed': 0,\n",
    "                'subsample': 0.6, 'colsample_bytree': 0.6, 'gamma': 0, 'reg_alpha': 0.01, 'reg_lambda': 10}"
   ]
  },
  {
   "cell_type": "code",
   "execution_count": 31,
   "metadata": {},
   "outputs": [
    {
     "name": "stdout",
     "output_type": "stream",
     "text": [
      "Fitting 2 folds for each of 10 candidates, totalling 20 fits\n",
      "[0]\tvalidation_0-merror:0.772014\tvalidation_1-merror:0.839922\n",
      "Multiple eval metrics have been passed: 'validation_1-merror' will be used for early stopping.\n",
      "\n",
      "Will train until validation_1-merror hasn't improved in 20 rounds.\n",
      "[1]\tvalidation_0-merror:0.738758\tvalidation_1-merror:0.826257\n",
      "[2]\tvalidation_0-merror:0.708638\tvalidation_1-merror:0.816984\n",
      "[3]\tvalidation_0-merror:0.694834\tvalidation_1-merror:0.805271\n",
      "[4]\tvalidation_0-merror:0.679356\tvalidation_1-merror:0.815032\n",
      "[5]\tvalidation_0-merror:0.656139\tvalidation_1-merror:0.812591\n",
      "[6]\tvalidation_0-merror:0.65342\tvalidation_1-merror:0.809175\n",
      "[7]\tvalidation_0-merror:0.642334\tvalidation_1-merror:0.805759\n",
      "[8]\tvalidation_0-merror:0.630412\tvalidation_1-merror:0.803319\n",
      "[9]\tvalidation_0-merror:0.620163\tvalidation_1-merror:0.795998\n",
      "[10]\tvalidation_0-merror:0.610751\tvalidation_1-merror:0.790142\n",
      "[11]\tvalidation_0-merror:0.599247\tvalidation_1-merror:0.79307\n",
      "[12]\tvalidation_0-merror:0.593181\tvalidation_1-merror:0.79551\n",
      "[13]\tvalidation_0-merror:0.587534\tvalidation_1-merror:0.79307\n",
      "[14]\tvalidation_0-merror:0.585233\tvalidation_1-merror:0.79307\n",
      "[15]\tvalidation_0-merror:0.577285\tvalidation_1-merror:0.792094\n",
      "[16]\tvalidation_0-merror:0.576448\tvalidation_1-merror:0.787701\n",
      "[17]\tvalidation_0-merror:0.565781\tvalidation_1-merror:0.786237\n",
      "[18]\tvalidation_0-merror:0.560134\tvalidation_1-merror:0.786237\n",
      "[19]\tvalidation_0-merror:0.559925\tvalidation_1-merror:0.783309\n"
     ]
    },
    {
     "name": "stderr",
     "output_type": "stream",
     "text": [
      "/Applications/anaconda3/lib/python3.6/site-packages/sklearn/preprocessing/label.py:151: DeprecationWarning: The truth value of an empty array is ambiguous. Returning False, but in future this will result in an error. Use `array.size > 0` to check that an array is not empty.\n",
      "  if diff:\n",
      "/Applications/anaconda3/lib/python3.6/site-packages/sklearn/preprocessing/label.py:151: DeprecationWarning: The truth value of an empty array is ambiguous. Returning False, but in future this will result in an error. Use `array.size > 0` to check that an array is not empty.\n",
      "  if diff:\n"
     ]
    },
    {
     "name": "stdout",
     "output_type": "stream",
     "text": [
      "[0]\tvalidation_0-merror:0.770341\tvalidation_1-merror:0.857491\n",
      "Multiple eval metrics have been passed: 'validation_1-merror' will be used for early stopping.\n",
      "\n",
      "Will train until validation_1-merror hasn't improved in 20 rounds.\n",
      "[1]\tvalidation_0-merror:0.732483\tvalidation_1-merror:0.841874\n",
      "[2]\tvalidation_0-merror:0.708429\tvalidation_1-merror:0.840898\n",
      "[3]\tvalidation_0-merror:0.693788\tvalidation_1-merror:0.834065\n",
      "[4]\tvalidation_0-merror:0.679774\tvalidation_1-merror:0.82284\n",
      "[5]\tvalidation_0-merror:0.664924\tvalidation_1-merror:0.810639\n",
      "[6]\tvalidation_0-merror:0.654675\tvalidation_1-merror:0.814544\n",
      "[7]\tvalidation_0-merror:0.640243\tvalidation_1-merror:0.809663\n",
      "[8]\tvalidation_0-merror:0.629994\tvalidation_1-merror:0.807711\n",
      "[9]\tvalidation_0-merror:0.613679\tvalidation_1-merror:0.803807\n",
      "[10]\tvalidation_0-merror:0.610751\tvalidation_1-merror:0.803319\n",
      "[11]\tvalidation_0-merror:0.603639\tvalidation_1-merror:0.803807\n",
      "[12]\tvalidation_0-merror:0.596946\tvalidation_1-merror:0.804783\n",
      "[13]\tvalidation_0-merror:0.593181\tvalidation_1-merror:0.801855\n",
      "[14]\tvalidation_0-merror:0.585442\tvalidation_1-merror:0.804295\n",
      "[15]\tvalidation_0-merror:0.582932\tvalidation_1-merror:0.800878\n",
      "[16]\tvalidation_0-merror:0.572265\tvalidation_1-merror:0.796486\n",
      "[17]\tvalidation_0-merror:0.567664\tvalidation_1-merror:0.796486\n",
      "[18]\tvalidation_0-merror:0.562644\tvalidation_1-merror:0.796486\n",
      "[19]\tvalidation_0-merror:0.555741\tvalidation_1-merror:0.791606\n"
     ]
    },
    {
     "name": "stderr",
     "output_type": "stream",
     "text": [
      "/Applications/anaconda3/lib/python3.6/site-packages/sklearn/preprocessing/label.py:151: DeprecationWarning: The truth value of an empty array is ambiguous. Returning False, but in future this will result in an error. Use `array.size > 0` to check that an array is not empty.\n",
      "  if diff:\n",
      "/Applications/anaconda3/lib/python3.6/site-packages/sklearn/preprocessing/label.py:151: DeprecationWarning: The truth value of an empty array is ambiguous. Returning False, but in future this will result in an error. Use `array.size > 0` to check that an array is not empty.\n",
      "  if diff:\n"
     ]
    },
    {
     "name": "stdout",
     "output_type": "stream",
     "text": [
      "[0]\tvalidation_0-merror:0.772014\tvalidation_1-merror:0.839922\n",
      "Multiple eval metrics have been passed: 'validation_1-merror' will be used for early stopping.\n",
      "\n",
      "Will train until validation_1-merror hasn't improved in 20 rounds.\n",
      "[1]\tvalidation_0-merror:0.738758\tvalidation_1-merror:0.826257\n",
      "[2]\tvalidation_0-merror:0.708638\tvalidation_1-merror:0.816984\n",
      "[3]\tvalidation_0-merror:0.694834\tvalidation_1-merror:0.805271\n",
      "[4]\tvalidation_0-merror:0.679356\tvalidation_1-merror:0.815032\n",
      "[5]\tvalidation_0-merror:0.656139\tvalidation_1-merror:0.812591\n",
      "[6]\tvalidation_0-merror:0.65342\tvalidation_1-merror:0.809175\n",
      "[7]\tvalidation_0-merror:0.642334\tvalidation_1-merror:0.805759\n",
      "[8]\tvalidation_0-merror:0.630412\tvalidation_1-merror:0.803319\n",
      "[9]\tvalidation_0-merror:0.620163\tvalidation_1-merror:0.795998\n",
      "[10]\tvalidation_0-merror:0.610751\tvalidation_1-merror:0.790142\n",
      "[11]\tvalidation_0-merror:0.599247\tvalidation_1-merror:0.79307\n",
      "[12]\tvalidation_0-merror:0.593181\tvalidation_1-merror:0.79551\n",
      "[13]\tvalidation_0-merror:0.587534\tvalidation_1-merror:0.79307\n",
      "[14]\tvalidation_0-merror:0.585233\tvalidation_1-merror:0.79307\n",
      "[15]\tvalidation_0-merror:0.577285\tvalidation_1-merror:0.792094\n",
      "[16]\tvalidation_0-merror:0.576448\tvalidation_1-merror:0.787701\n",
      "[17]\tvalidation_0-merror:0.565781\tvalidation_1-merror:0.786237\n",
      "[18]\tvalidation_0-merror:0.560134\tvalidation_1-merror:0.786237\n",
      "[19]\tvalidation_0-merror:0.559925\tvalidation_1-merror:0.783309\n",
      "[20]\tvalidation_0-merror:0.555532\tvalidation_1-merror:0.780381\n",
      "[21]\tvalidation_0-merror:0.549885\tvalidation_1-merror:0.784773\n",
      "[22]\tvalidation_0-merror:0.54361\tvalidation_1-merror:0.785749\n",
      "[23]\tvalidation_0-merror:0.540264\tvalidation_1-merror:0.783797\n",
      "[24]\tvalidation_0-merror:0.536499\tvalidation_1-merror:0.787213\n",
      "[25]\tvalidation_0-merror:0.530224\tvalidation_1-merror:0.785261\n",
      "[26]\tvalidation_0-merror:0.525831\tvalidation_1-merror:0.785749\n",
      "[27]\tvalidation_0-merror:0.524576\tvalidation_1-merror:0.783797\n",
      "[28]\tvalidation_0-merror:0.522485\tvalidation_1-merror:0.785261\n",
      "[29]\tvalidation_0-merror:0.517256\tvalidation_1-merror:0.787213\n",
      "[30]\tvalidation_0-merror:0.514746\tvalidation_1-merror:0.787701\n",
      "[31]\tvalidation_0-merror:0.513073\tvalidation_1-merror:0.786725\n",
      "[32]\tvalidation_0-merror:0.510144\tvalidation_1-merror:0.792094\n",
      "[33]\tvalidation_0-merror:0.505334\tvalidation_1-merror:0.792582\n",
      "[34]\tvalidation_0-merror:0.503242\tvalidation_1-merror:0.791118\n",
      "[35]\tvalidation_0-merror:0.500523\tvalidation_1-merror:0.787701\n",
      "[36]\tvalidation_0-merror:0.496549\tvalidation_1-merror:0.786725\n",
      "[37]\tvalidation_0-merror:0.493202\tvalidation_1-merror:0.786237\n",
      "[38]\tvalidation_0-merror:0.489856\tvalidation_1-merror:0.789653\n",
      "[39]\tvalidation_0-merror:0.488182\tvalidation_1-merror:0.785261\n"
     ]
    },
    {
     "name": "stderr",
     "output_type": "stream",
     "text": [
      "/Applications/anaconda3/lib/python3.6/site-packages/sklearn/preprocessing/label.py:151: DeprecationWarning: The truth value of an empty array is ambiguous. Returning False, but in future this will result in an error. Use `array.size > 0` to check that an array is not empty.\n",
      "  if diff:\n",
      "/Applications/anaconda3/lib/python3.6/site-packages/sklearn/preprocessing/label.py:151: DeprecationWarning: The truth value of an empty array is ambiguous. Returning False, but in future this will result in an error. Use `array.size > 0` to check that an array is not empty.\n",
      "  if diff:\n"
     ]
    },
    {
     "name": "stdout",
     "output_type": "stream",
     "text": [
      "[0]\tvalidation_0-merror:0.770341\tvalidation_1-merror:0.857491\n",
      "Multiple eval metrics have been passed: 'validation_1-merror' will be used for early stopping.\n",
      "\n",
      "Will train until validation_1-merror hasn't improved in 20 rounds.\n",
      "[1]\tvalidation_0-merror:0.732483\tvalidation_1-merror:0.841874\n",
      "[2]\tvalidation_0-merror:0.708429\tvalidation_1-merror:0.840898\n",
      "[3]\tvalidation_0-merror:0.693788\tvalidation_1-merror:0.834065\n",
      "[4]\tvalidation_0-merror:0.679774\tvalidation_1-merror:0.82284\n",
      "[5]\tvalidation_0-merror:0.664924\tvalidation_1-merror:0.810639\n",
      "[6]\tvalidation_0-merror:0.654675\tvalidation_1-merror:0.814544\n",
      "[7]\tvalidation_0-merror:0.640243\tvalidation_1-merror:0.809663\n",
      "[8]\tvalidation_0-merror:0.629994\tvalidation_1-merror:0.807711\n",
      "[9]\tvalidation_0-merror:0.613679\tvalidation_1-merror:0.803807\n",
      "[10]\tvalidation_0-merror:0.610751\tvalidation_1-merror:0.803319\n",
      "[11]\tvalidation_0-merror:0.603639\tvalidation_1-merror:0.803807\n",
      "[12]\tvalidation_0-merror:0.596946\tvalidation_1-merror:0.804783\n",
      "[13]\tvalidation_0-merror:0.593181\tvalidation_1-merror:0.801855\n",
      "[14]\tvalidation_0-merror:0.585442\tvalidation_1-merror:0.804295\n",
      "[15]\tvalidation_0-merror:0.582932\tvalidation_1-merror:0.800878\n",
      "[16]\tvalidation_0-merror:0.572265\tvalidation_1-merror:0.796486\n",
      "[17]\tvalidation_0-merror:0.567664\tvalidation_1-merror:0.796486\n",
      "[18]\tvalidation_0-merror:0.562644\tvalidation_1-merror:0.796486\n",
      "[19]\tvalidation_0-merror:0.555741\tvalidation_1-merror:0.791606\n",
      "[20]\tvalidation_0-merror:0.553022\tvalidation_1-merror:0.796974\n",
      "[21]\tvalidation_0-merror:0.544447\tvalidation_1-merror:0.79307\n",
      "[22]\tvalidation_0-merror:0.544238\tvalidation_1-merror:0.790142\n",
      "[23]\tvalidation_0-merror:0.538799\tvalidation_1-merror:0.79307\n",
      "[24]\tvalidation_0-merror:0.535453\tvalidation_1-merror:0.792094\n",
      "[25]\tvalidation_0-merror:0.532734\tvalidation_1-merror:0.79307\n",
      "[26]\tvalidation_0-merror:0.530642\tvalidation_1-merror:0.798438\n",
      "[27]\tvalidation_0-merror:0.526459\tvalidation_1-merror:0.794046\n",
      "[28]\tvalidation_0-merror:0.52625\tvalidation_1-merror:0.798438\n",
      "[29]\tvalidation_0-merror:0.521021\tvalidation_1-merror:0.792582\n",
      "[30]\tvalidation_0-merror:0.518092\tvalidation_1-merror:0.791118\n",
      "[31]\tvalidation_0-merror:0.514537\tvalidation_1-merror:0.79307\n",
      "[32]\tvalidation_0-merror:0.510772\tvalidation_1-merror:0.791118\n",
      "[33]\tvalidation_0-merror:0.507007\tvalidation_1-merror:0.787701\n",
      "[34]\tvalidation_0-merror:0.505124\tvalidation_1-merror:0.793558\n",
      "[35]\tvalidation_0-merror:0.505752\tvalidation_1-merror:0.789653\n",
      "[36]\tvalidation_0-merror:0.499686\tvalidation_1-merror:0.789165\n",
      "[37]\tvalidation_0-merror:0.496758\tvalidation_1-merror:0.794046\n",
      "[38]\tvalidation_0-merror:0.495294\tvalidation_1-merror:0.792094\n",
      "[39]\tvalidation_0-merror:0.490483\tvalidation_1-merror:0.791606\n"
     ]
    },
    {
     "name": "stderr",
     "output_type": "stream",
     "text": [
      "/Applications/anaconda3/lib/python3.6/site-packages/sklearn/preprocessing/label.py:151: DeprecationWarning: The truth value of an empty array is ambiguous. Returning False, but in future this will result in an error. Use `array.size > 0` to check that an array is not empty.\n",
      "  if diff:\n",
      "/Applications/anaconda3/lib/python3.6/site-packages/sklearn/preprocessing/label.py:151: DeprecationWarning: The truth value of an empty array is ambiguous. Returning False, but in future this will result in an error. Use `array.size > 0` to check that an array is not empty.\n",
      "  if diff:\n"
     ]
    },
    {
     "name": "stdout",
     "output_type": "stream",
     "text": [
      "[0]\tvalidation_0-merror:0.772014\tvalidation_1-merror:0.839922\n",
      "Multiple eval metrics have been passed: 'validation_1-merror' will be used for early stopping.\n",
      "\n",
      "Will train until validation_1-merror hasn't improved in 20 rounds.\n",
      "[1]\tvalidation_0-merror:0.738758\tvalidation_1-merror:0.826257\n",
      "[2]\tvalidation_0-merror:0.708638\tvalidation_1-merror:0.816984\n",
      "[3]\tvalidation_0-merror:0.694834\tvalidation_1-merror:0.805271\n",
      "[4]\tvalidation_0-merror:0.679356\tvalidation_1-merror:0.815032\n",
      "[5]\tvalidation_0-merror:0.656139\tvalidation_1-merror:0.812591\n",
      "[6]\tvalidation_0-merror:0.65342\tvalidation_1-merror:0.809175\n",
      "[7]\tvalidation_0-merror:0.642334\tvalidation_1-merror:0.805759\n",
      "[8]\tvalidation_0-merror:0.630412\tvalidation_1-merror:0.803319\n",
      "[9]\tvalidation_0-merror:0.620163\tvalidation_1-merror:0.795998\n",
      "[10]\tvalidation_0-merror:0.610751\tvalidation_1-merror:0.790142\n",
      "[11]\tvalidation_0-merror:0.599247\tvalidation_1-merror:0.79307\n",
      "[12]\tvalidation_0-merror:0.593181\tvalidation_1-merror:0.79551\n",
      "[13]\tvalidation_0-merror:0.587534\tvalidation_1-merror:0.79307\n",
      "[14]\tvalidation_0-merror:0.585233\tvalidation_1-merror:0.79307\n",
      "[15]\tvalidation_0-merror:0.577285\tvalidation_1-merror:0.792094\n",
      "[16]\tvalidation_0-merror:0.576448\tvalidation_1-merror:0.787701\n",
      "[17]\tvalidation_0-merror:0.565781\tvalidation_1-merror:0.786237\n",
      "[18]\tvalidation_0-merror:0.560134\tvalidation_1-merror:0.786237\n",
      "[19]\tvalidation_0-merror:0.559925\tvalidation_1-merror:0.783309\n",
      "[20]\tvalidation_0-merror:0.555532\tvalidation_1-merror:0.780381\n",
      "[21]\tvalidation_0-merror:0.549885\tvalidation_1-merror:0.784773\n",
      "[22]\tvalidation_0-merror:0.54361\tvalidation_1-merror:0.785749\n",
      "[23]\tvalidation_0-merror:0.540264\tvalidation_1-merror:0.783797\n",
      "[24]\tvalidation_0-merror:0.536499\tvalidation_1-merror:0.787213\n",
      "[25]\tvalidation_0-merror:0.530224\tvalidation_1-merror:0.785261\n",
      "[26]\tvalidation_0-merror:0.525831\tvalidation_1-merror:0.785749\n",
      "[27]\tvalidation_0-merror:0.524576\tvalidation_1-merror:0.783797\n",
      "[28]\tvalidation_0-merror:0.522485\tvalidation_1-merror:0.785261\n",
      "[29]\tvalidation_0-merror:0.517256\tvalidation_1-merror:0.787213\n",
      "[30]\tvalidation_0-merror:0.514746\tvalidation_1-merror:0.787701\n",
      "[31]\tvalidation_0-merror:0.513073\tvalidation_1-merror:0.786725\n",
      "[32]\tvalidation_0-merror:0.510144\tvalidation_1-merror:0.792094\n",
      "[33]\tvalidation_0-merror:0.505334\tvalidation_1-merror:0.792582\n",
      "[34]\tvalidation_0-merror:0.503242\tvalidation_1-merror:0.791118\n",
      "[35]\tvalidation_0-merror:0.500523\tvalidation_1-merror:0.787701\n",
      "[36]\tvalidation_0-merror:0.496549\tvalidation_1-merror:0.786725\n",
      "[37]\tvalidation_0-merror:0.493202\tvalidation_1-merror:0.786237\n",
      "[38]\tvalidation_0-merror:0.489856\tvalidation_1-merror:0.789653\n",
      "[39]\tvalidation_0-merror:0.488182\tvalidation_1-merror:0.785261\n",
      "[40]\tvalidation_0-merror:0.485672\tvalidation_1-merror:0.784773\n",
      "Stopping. Best iteration:\n",
      "[20]\tvalidation_0-merror:0.555532\tvalidation_1-merror:0.780381\n",
      "\n"
     ]
    },
    {
     "name": "stderr",
     "output_type": "stream",
     "text": [
      "/Applications/anaconda3/lib/python3.6/site-packages/sklearn/preprocessing/label.py:151: DeprecationWarning: The truth value of an empty array is ambiguous. Returning False, but in future this will result in an error. Use `array.size > 0` to check that an array is not empty.\n",
      "  if diff:\n",
      "/Applications/anaconda3/lib/python3.6/site-packages/sklearn/preprocessing/label.py:151: DeprecationWarning: The truth value of an empty array is ambiguous. Returning False, but in future this will result in an error. Use `array.size > 0` to check that an array is not empty.\n",
      "  if diff:\n"
     ]
    },
    {
     "name": "stdout",
     "output_type": "stream",
     "text": [
      "[0]\tvalidation_0-merror:0.770341\tvalidation_1-merror:0.857491\n",
      "Multiple eval metrics have been passed: 'validation_1-merror' will be used for early stopping.\n",
      "\n",
      "Will train until validation_1-merror hasn't improved in 20 rounds.\n",
      "[1]\tvalidation_0-merror:0.732483\tvalidation_1-merror:0.841874\n",
      "[2]\tvalidation_0-merror:0.708429\tvalidation_1-merror:0.840898\n",
      "[3]\tvalidation_0-merror:0.693788\tvalidation_1-merror:0.834065\n",
      "[4]\tvalidation_0-merror:0.679774\tvalidation_1-merror:0.82284\n",
      "[5]\tvalidation_0-merror:0.664924\tvalidation_1-merror:0.810639\n",
      "[6]\tvalidation_0-merror:0.654675\tvalidation_1-merror:0.814544\n",
      "[7]\tvalidation_0-merror:0.640243\tvalidation_1-merror:0.809663\n",
      "[8]\tvalidation_0-merror:0.629994\tvalidation_1-merror:0.807711\n",
      "[9]\tvalidation_0-merror:0.613679\tvalidation_1-merror:0.803807\n",
      "[10]\tvalidation_0-merror:0.610751\tvalidation_1-merror:0.803319\n",
      "[11]\tvalidation_0-merror:0.603639\tvalidation_1-merror:0.803807\n",
      "[12]\tvalidation_0-merror:0.596946\tvalidation_1-merror:0.804783\n",
      "[13]\tvalidation_0-merror:0.593181\tvalidation_1-merror:0.801855\n",
      "[14]\tvalidation_0-merror:0.585442\tvalidation_1-merror:0.804295\n",
      "[15]\tvalidation_0-merror:0.582932\tvalidation_1-merror:0.800878\n",
      "[16]\tvalidation_0-merror:0.572265\tvalidation_1-merror:0.796486\n",
      "[17]\tvalidation_0-merror:0.567664\tvalidation_1-merror:0.796486\n",
      "[18]\tvalidation_0-merror:0.562644\tvalidation_1-merror:0.796486\n",
      "[19]\tvalidation_0-merror:0.555741\tvalidation_1-merror:0.791606\n",
      "[20]\tvalidation_0-merror:0.553022\tvalidation_1-merror:0.796974\n",
      "[21]\tvalidation_0-merror:0.544447\tvalidation_1-merror:0.79307\n",
      "[22]\tvalidation_0-merror:0.544238\tvalidation_1-merror:0.790142\n",
      "[23]\tvalidation_0-merror:0.538799\tvalidation_1-merror:0.79307\n",
      "[24]\tvalidation_0-merror:0.535453\tvalidation_1-merror:0.792094\n",
      "[25]\tvalidation_0-merror:0.532734\tvalidation_1-merror:0.79307\n",
      "[26]\tvalidation_0-merror:0.530642\tvalidation_1-merror:0.798438\n",
      "[27]\tvalidation_0-merror:0.526459\tvalidation_1-merror:0.794046\n",
      "[28]\tvalidation_0-merror:0.52625\tvalidation_1-merror:0.798438\n",
      "[29]\tvalidation_0-merror:0.521021\tvalidation_1-merror:0.792582\n",
      "[30]\tvalidation_0-merror:0.518092\tvalidation_1-merror:0.791118\n",
      "[31]\tvalidation_0-merror:0.514537\tvalidation_1-merror:0.79307\n",
      "[32]\tvalidation_0-merror:0.510772\tvalidation_1-merror:0.791118\n",
      "[33]\tvalidation_0-merror:0.507007\tvalidation_1-merror:0.787701\n",
      "[34]\tvalidation_0-merror:0.505124\tvalidation_1-merror:0.793558\n",
      "[35]\tvalidation_0-merror:0.505752\tvalidation_1-merror:0.789653\n",
      "[36]\tvalidation_0-merror:0.499686\tvalidation_1-merror:0.789165\n",
      "[37]\tvalidation_0-merror:0.496758\tvalidation_1-merror:0.794046\n",
      "[38]\tvalidation_0-merror:0.495294\tvalidation_1-merror:0.792094\n",
      "[39]\tvalidation_0-merror:0.490483\tvalidation_1-merror:0.791606\n",
      "[40]\tvalidation_0-merror:0.487346\tvalidation_1-merror:0.789653\n",
      "[41]\tvalidation_0-merror:0.484836\tvalidation_1-merror:0.793558\n",
      "[42]\tvalidation_0-merror:0.482953\tvalidation_1-merror:0.787213\n",
      "[43]\tvalidation_0-merror:0.482953\tvalidation_1-merror:0.787213\n",
      "[44]\tvalidation_0-merror:0.481489\tvalidation_1-merror:0.79063\n",
      "[45]\tvalidation_0-merror:0.478352\tvalidation_1-merror:0.789165\n",
      "[46]\tvalidation_0-merror:0.476888\tvalidation_1-merror:0.788189\n",
      "[47]\tvalidation_0-merror:0.473541\tvalidation_1-merror:0.790142\n",
      "[48]\tvalidation_0-merror:0.469567\tvalidation_1-merror:0.787213\n",
      "[49]\tvalidation_0-merror:0.470404\tvalidation_1-merror:0.786725\n",
      "[50]\tvalidation_0-merror:0.46643\tvalidation_1-merror:0.785749\n",
      "[51]\tvalidation_0-merror:0.466011\tvalidation_1-merror:0.785749\n",
      "[52]\tvalidation_0-merror:0.462456\tvalidation_1-merror:0.782821\n",
      "[53]\tvalidation_0-merror:0.462246\tvalidation_1-merror:0.781357\n",
      "[54]\tvalidation_0-merror:0.461201\tvalidation_1-merror:0.789653\n",
      "[55]\tvalidation_0-merror:0.4589\tvalidation_1-merror:0.787701\n",
      "[56]\tvalidation_0-merror:0.454926\tvalidation_1-merror:0.786725\n",
      "[57]\tvalidation_0-merror:0.451788\tvalidation_1-merror:0.784285\n",
      "[58]\tvalidation_0-merror:0.451579\tvalidation_1-merror:0.785261\n",
      "[59]\tvalidation_0-merror:0.45137\tvalidation_1-merror:0.784285\n"
     ]
    },
    {
     "name": "stderr",
     "output_type": "stream",
     "text": [
      "/Applications/anaconda3/lib/python3.6/site-packages/sklearn/preprocessing/label.py:151: DeprecationWarning: The truth value of an empty array is ambiguous. Returning False, but in future this will result in an error. Use `array.size > 0` to check that an array is not empty.\n",
      "  if diff:\n",
      "/Applications/anaconda3/lib/python3.6/site-packages/sklearn/preprocessing/label.py:151: DeprecationWarning: The truth value of an empty array is ambiguous. Returning False, but in future this will result in an error. Use `array.size > 0` to check that an array is not empty.\n",
      "  if diff:\n"
     ]
    },
    {
     "name": "stdout",
     "output_type": "stream",
     "text": [
      "[0]\tvalidation_0-merror:0.772014\tvalidation_1-merror:0.839922\n",
      "Multiple eval metrics have been passed: 'validation_1-merror' will be used for early stopping.\n",
      "\n",
      "Will train until validation_1-merror hasn't improved in 20 rounds.\n",
      "[1]\tvalidation_0-merror:0.738758\tvalidation_1-merror:0.826257\n",
      "[2]\tvalidation_0-merror:0.708638\tvalidation_1-merror:0.816984\n",
      "[3]\tvalidation_0-merror:0.694834\tvalidation_1-merror:0.805271\n",
      "[4]\tvalidation_0-merror:0.679356\tvalidation_1-merror:0.815032\n",
      "[5]\tvalidation_0-merror:0.656139\tvalidation_1-merror:0.812591\n",
      "[6]\tvalidation_0-merror:0.65342\tvalidation_1-merror:0.809175\n",
      "[7]\tvalidation_0-merror:0.642334\tvalidation_1-merror:0.805759\n",
      "[8]\tvalidation_0-merror:0.630412\tvalidation_1-merror:0.803319\n",
      "[9]\tvalidation_0-merror:0.620163\tvalidation_1-merror:0.795998\n",
      "[10]\tvalidation_0-merror:0.610751\tvalidation_1-merror:0.790142\n",
      "[11]\tvalidation_0-merror:0.599247\tvalidation_1-merror:0.79307\n",
      "[12]\tvalidation_0-merror:0.593181\tvalidation_1-merror:0.79551\n",
      "[13]\tvalidation_0-merror:0.587534\tvalidation_1-merror:0.79307\n",
      "[14]\tvalidation_0-merror:0.585233\tvalidation_1-merror:0.79307\n",
      "[15]\tvalidation_0-merror:0.577285\tvalidation_1-merror:0.792094\n",
      "[16]\tvalidation_0-merror:0.576448\tvalidation_1-merror:0.787701\n",
      "[17]\tvalidation_0-merror:0.565781\tvalidation_1-merror:0.786237\n",
      "[18]\tvalidation_0-merror:0.560134\tvalidation_1-merror:0.786237\n",
      "[19]\tvalidation_0-merror:0.559925\tvalidation_1-merror:0.783309\n",
      "[20]\tvalidation_0-merror:0.555532\tvalidation_1-merror:0.780381\n",
      "[21]\tvalidation_0-merror:0.549885\tvalidation_1-merror:0.784773\n",
      "[22]\tvalidation_0-merror:0.54361\tvalidation_1-merror:0.785749\n",
      "[23]\tvalidation_0-merror:0.540264\tvalidation_1-merror:0.783797\n",
      "[24]\tvalidation_0-merror:0.536499\tvalidation_1-merror:0.787213\n",
      "[25]\tvalidation_0-merror:0.530224\tvalidation_1-merror:0.785261\n",
      "[26]\tvalidation_0-merror:0.525831\tvalidation_1-merror:0.785749\n",
      "[27]\tvalidation_0-merror:0.524576\tvalidation_1-merror:0.783797\n",
      "[28]\tvalidation_0-merror:0.522485\tvalidation_1-merror:0.785261\n",
      "[29]\tvalidation_0-merror:0.517256\tvalidation_1-merror:0.787213\n",
      "[30]\tvalidation_0-merror:0.514746\tvalidation_1-merror:0.787701\n",
      "[31]\tvalidation_0-merror:0.513073\tvalidation_1-merror:0.786725\n",
      "[32]\tvalidation_0-merror:0.510144\tvalidation_1-merror:0.792094\n",
      "[33]\tvalidation_0-merror:0.505334\tvalidation_1-merror:0.792582\n",
      "[34]\tvalidation_0-merror:0.503242\tvalidation_1-merror:0.791118\n",
      "[35]\tvalidation_0-merror:0.500523\tvalidation_1-merror:0.787701\n",
      "[36]\tvalidation_0-merror:0.496549\tvalidation_1-merror:0.786725\n",
      "[37]\tvalidation_0-merror:0.493202\tvalidation_1-merror:0.786237\n",
      "[38]\tvalidation_0-merror:0.489856\tvalidation_1-merror:0.789653\n",
      "[39]\tvalidation_0-merror:0.488182\tvalidation_1-merror:0.785261\n",
      "[40]\tvalidation_0-merror:0.485672\tvalidation_1-merror:0.784773\n",
      "Stopping. Best iteration:\n",
      "[20]\tvalidation_0-merror:0.555532\tvalidation_1-merror:0.780381\n",
      "\n"
     ]
    },
    {
     "name": "stderr",
     "output_type": "stream",
     "text": [
      "/Applications/anaconda3/lib/python3.6/site-packages/sklearn/preprocessing/label.py:151: DeprecationWarning: The truth value of an empty array is ambiguous. Returning False, but in future this will result in an error. Use `array.size > 0` to check that an array is not empty.\n",
      "  if diff:\n",
      "/Applications/anaconda3/lib/python3.6/site-packages/sklearn/preprocessing/label.py:151: DeprecationWarning: The truth value of an empty array is ambiguous. Returning False, but in future this will result in an error. Use `array.size > 0` to check that an array is not empty.\n",
      "  if diff:\n"
     ]
    },
    {
     "name": "stdout",
     "output_type": "stream",
     "text": [
      "[0]\tvalidation_0-merror:0.770341\tvalidation_1-merror:0.857491\n",
      "Multiple eval metrics have been passed: 'validation_1-merror' will be used for early stopping.\n",
      "\n",
      "Will train until validation_1-merror hasn't improved in 20 rounds.\n",
      "[1]\tvalidation_0-merror:0.732483\tvalidation_1-merror:0.841874\n",
      "[2]\tvalidation_0-merror:0.708429\tvalidation_1-merror:0.840898\n",
      "[3]\tvalidation_0-merror:0.693788\tvalidation_1-merror:0.834065\n",
      "[4]\tvalidation_0-merror:0.679774\tvalidation_1-merror:0.82284\n",
      "[5]\tvalidation_0-merror:0.664924\tvalidation_1-merror:0.810639\n",
      "[6]\tvalidation_0-merror:0.654675\tvalidation_1-merror:0.814544\n",
      "[7]\tvalidation_0-merror:0.640243\tvalidation_1-merror:0.809663\n",
      "[8]\tvalidation_0-merror:0.629994\tvalidation_1-merror:0.807711\n",
      "[9]\tvalidation_0-merror:0.613679\tvalidation_1-merror:0.803807\n",
      "[10]\tvalidation_0-merror:0.610751\tvalidation_1-merror:0.803319\n",
      "[11]\tvalidation_0-merror:0.603639\tvalidation_1-merror:0.803807\n",
      "[12]\tvalidation_0-merror:0.596946\tvalidation_1-merror:0.804783\n",
      "[13]\tvalidation_0-merror:0.593181\tvalidation_1-merror:0.801855\n",
      "[14]\tvalidation_0-merror:0.585442\tvalidation_1-merror:0.804295\n",
      "[15]\tvalidation_0-merror:0.582932\tvalidation_1-merror:0.800878\n",
      "[16]\tvalidation_0-merror:0.572265\tvalidation_1-merror:0.796486\n",
      "[17]\tvalidation_0-merror:0.567664\tvalidation_1-merror:0.796486\n",
      "[18]\tvalidation_0-merror:0.562644\tvalidation_1-merror:0.796486\n",
      "[19]\tvalidation_0-merror:0.555741\tvalidation_1-merror:0.791606\n",
      "[20]\tvalidation_0-merror:0.553022\tvalidation_1-merror:0.796974\n",
      "[21]\tvalidation_0-merror:0.544447\tvalidation_1-merror:0.79307\n",
      "[22]\tvalidation_0-merror:0.544238\tvalidation_1-merror:0.790142\n",
      "[23]\tvalidation_0-merror:0.538799\tvalidation_1-merror:0.79307\n",
      "[24]\tvalidation_0-merror:0.535453\tvalidation_1-merror:0.792094\n",
      "[25]\tvalidation_0-merror:0.532734\tvalidation_1-merror:0.79307\n",
      "[26]\tvalidation_0-merror:0.530642\tvalidation_1-merror:0.798438\n",
      "[27]\tvalidation_0-merror:0.526459\tvalidation_1-merror:0.794046\n",
      "[28]\tvalidation_0-merror:0.52625\tvalidation_1-merror:0.798438\n",
      "[29]\tvalidation_0-merror:0.521021\tvalidation_1-merror:0.792582\n",
      "[30]\tvalidation_0-merror:0.518092\tvalidation_1-merror:0.791118\n",
      "[31]\tvalidation_0-merror:0.514537\tvalidation_1-merror:0.79307\n",
      "[32]\tvalidation_0-merror:0.510772\tvalidation_1-merror:0.791118\n",
      "[33]\tvalidation_0-merror:0.507007\tvalidation_1-merror:0.787701\n",
      "[34]\tvalidation_0-merror:0.505124\tvalidation_1-merror:0.793558\n",
      "[35]\tvalidation_0-merror:0.505752\tvalidation_1-merror:0.789653\n",
      "[36]\tvalidation_0-merror:0.499686\tvalidation_1-merror:0.789165\n",
      "[37]\tvalidation_0-merror:0.496758\tvalidation_1-merror:0.794046\n",
      "[38]\tvalidation_0-merror:0.495294\tvalidation_1-merror:0.792094\n",
      "[39]\tvalidation_0-merror:0.490483\tvalidation_1-merror:0.791606\n",
      "[40]\tvalidation_0-merror:0.487346\tvalidation_1-merror:0.789653\n",
      "[41]\tvalidation_0-merror:0.484836\tvalidation_1-merror:0.793558\n",
      "[42]\tvalidation_0-merror:0.482953\tvalidation_1-merror:0.787213\n",
      "[43]\tvalidation_0-merror:0.482953\tvalidation_1-merror:0.787213\n",
      "[44]\tvalidation_0-merror:0.481489\tvalidation_1-merror:0.79063\n",
      "[45]\tvalidation_0-merror:0.478352\tvalidation_1-merror:0.789165\n",
      "[46]\tvalidation_0-merror:0.476888\tvalidation_1-merror:0.788189\n",
      "[47]\tvalidation_0-merror:0.473541\tvalidation_1-merror:0.790142\n",
      "[48]\tvalidation_0-merror:0.469567\tvalidation_1-merror:0.787213\n",
      "[49]\tvalidation_0-merror:0.470404\tvalidation_1-merror:0.786725\n",
      "[50]\tvalidation_0-merror:0.46643\tvalidation_1-merror:0.785749\n",
      "[51]\tvalidation_0-merror:0.466011\tvalidation_1-merror:0.785749\n",
      "[52]\tvalidation_0-merror:0.462456\tvalidation_1-merror:0.782821\n",
      "[53]\tvalidation_0-merror:0.462246\tvalidation_1-merror:0.781357\n",
      "[54]\tvalidation_0-merror:0.461201\tvalidation_1-merror:0.789653\n",
      "[55]\tvalidation_0-merror:0.4589\tvalidation_1-merror:0.787701\n",
      "[56]\tvalidation_0-merror:0.454926\tvalidation_1-merror:0.786725\n",
      "[57]\tvalidation_0-merror:0.451788\tvalidation_1-merror:0.784285\n",
      "[58]\tvalidation_0-merror:0.451579\tvalidation_1-merror:0.785261\n",
      "[59]\tvalidation_0-merror:0.45137\tvalidation_1-merror:0.784285\n",
      "[60]\tvalidation_0-merror:0.450115\tvalidation_1-merror:0.788677\n",
      "[61]\tvalidation_0-merror:0.446978\tvalidation_1-merror:0.790142\n",
      "[62]\tvalidation_0-merror:0.446978\tvalidation_1-merror:0.791606\n",
      "[63]\tvalidation_0-merror:0.444468\tvalidation_1-merror:0.787701\n",
      "[64]\tvalidation_0-merror:0.445932\tvalidation_1-merror:0.787701\n",
      "[65]\tvalidation_0-merror:0.445095\tvalidation_1-merror:0.788189\n",
      "[66]\tvalidation_0-merror:0.444049\tvalidation_1-merror:0.787213\n",
      "[67]\tvalidation_0-merror:0.443004\tvalidation_1-merror:0.786237\n",
      "[68]\tvalidation_0-merror:0.439029\tvalidation_1-merror:0.785749\n",
      "[69]\tvalidation_0-merror:0.436729\tvalidation_1-merror:0.785749\n",
      "[70]\tvalidation_0-merror:0.435892\tvalidation_1-merror:0.787213\n",
      "[71]\tvalidation_0-merror:0.437147\tvalidation_1-merror:0.787213\n",
      "[72]\tvalidation_0-merror:0.434219\tvalidation_1-merror:0.784285\n",
      "[73]\tvalidation_0-merror:0.433382\tvalidation_1-merror:0.784773\n",
      "Stopping. Best iteration:\n",
      "[53]\tvalidation_0-merror:0.462246\tvalidation_1-merror:0.781357\n",
      "\n"
     ]
    },
    {
     "name": "stderr",
     "output_type": "stream",
     "text": [
      "/Applications/anaconda3/lib/python3.6/site-packages/sklearn/preprocessing/label.py:151: DeprecationWarning: The truth value of an empty array is ambiguous. Returning False, but in future this will result in an error. Use `array.size > 0` to check that an array is not empty.\n",
      "  if diff:\n",
      "/Applications/anaconda3/lib/python3.6/site-packages/sklearn/preprocessing/label.py:151: DeprecationWarning: The truth value of an empty array is ambiguous. Returning False, but in future this will result in an error. Use `array.size > 0` to check that an array is not empty.\n",
      "  if diff:\n"
     ]
    },
    {
     "name": "stdout",
     "output_type": "stream",
     "text": [
      "[0]\tvalidation_0-merror:0.772014\tvalidation_1-merror:0.839922\n",
      "Multiple eval metrics have been passed: 'validation_1-merror' will be used for early stopping.\n",
      "\n",
      "Will train until validation_1-merror hasn't improved in 20 rounds.\n",
      "[1]\tvalidation_0-merror:0.738758\tvalidation_1-merror:0.826257\n",
      "[2]\tvalidation_0-merror:0.708638\tvalidation_1-merror:0.816984\n",
      "[3]\tvalidation_0-merror:0.694834\tvalidation_1-merror:0.805271\n",
      "[4]\tvalidation_0-merror:0.679356\tvalidation_1-merror:0.815032\n",
      "[5]\tvalidation_0-merror:0.656139\tvalidation_1-merror:0.812591\n",
      "[6]\tvalidation_0-merror:0.65342\tvalidation_1-merror:0.809175\n",
      "[7]\tvalidation_0-merror:0.642334\tvalidation_1-merror:0.805759\n",
      "[8]\tvalidation_0-merror:0.630412\tvalidation_1-merror:0.803319\n",
      "[9]\tvalidation_0-merror:0.620163\tvalidation_1-merror:0.795998\n",
      "[10]\tvalidation_0-merror:0.610751\tvalidation_1-merror:0.790142\n",
      "[11]\tvalidation_0-merror:0.599247\tvalidation_1-merror:0.79307\n",
      "[12]\tvalidation_0-merror:0.593181\tvalidation_1-merror:0.79551\n",
      "[13]\tvalidation_0-merror:0.587534\tvalidation_1-merror:0.79307\n",
      "[14]\tvalidation_0-merror:0.585233\tvalidation_1-merror:0.79307\n",
      "[15]\tvalidation_0-merror:0.577285\tvalidation_1-merror:0.792094\n",
      "[16]\tvalidation_0-merror:0.576448\tvalidation_1-merror:0.787701\n",
      "[17]\tvalidation_0-merror:0.565781\tvalidation_1-merror:0.786237\n",
      "[18]\tvalidation_0-merror:0.560134\tvalidation_1-merror:0.786237\n",
      "[19]\tvalidation_0-merror:0.559925\tvalidation_1-merror:0.783309\n",
      "[20]\tvalidation_0-merror:0.555532\tvalidation_1-merror:0.780381\n",
      "[21]\tvalidation_0-merror:0.549885\tvalidation_1-merror:0.784773\n",
      "[22]\tvalidation_0-merror:0.54361\tvalidation_1-merror:0.785749\n",
      "[23]\tvalidation_0-merror:0.540264\tvalidation_1-merror:0.783797\n",
      "[24]\tvalidation_0-merror:0.536499\tvalidation_1-merror:0.787213\n",
      "[25]\tvalidation_0-merror:0.530224\tvalidation_1-merror:0.785261\n",
      "[26]\tvalidation_0-merror:0.525831\tvalidation_1-merror:0.785749\n",
      "[27]\tvalidation_0-merror:0.524576\tvalidation_1-merror:0.783797\n",
      "[28]\tvalidation_0-merror:0.522485\tvalidation_1-merror:0.785261\n",
      "[29]\tvalidation_0-merror:0.517256\tvalidation_1-merror:0.787213\n",
      "[30]\tvalidation_0-merror:0.514746\tvalidation_1-merror:0.787701\n",
      "[31]\tvalidation_0-merror:0.513073\tvalidation_1-merror:0.786725\n",
      "[32]\tvalidation_0-merror:0.510144\tvalidation_1-merror:0.792094\n",
      "[33]\tvalidation_0-merror:0.505334\tvalidation_1-merror:0.792582\n",
      "[34]\tvalidation_0-merror:0.503242\tvalidation_1-merror:0.791118\n",
      "[35]\tvalidation_0-merror:0.500523\tvalidation_1-merror:0.787701\n",
      "[36]\tvalidation_0-merror:0.496549\tvalidation_1-merror:0.786725\n",
      "[37]\tvalidation_0-merror:0.493202\tvalidation_1-merror:0.786237\n",
      "[38]\tvalidation_0-merror:0.489856\tvalidation_1-merror:0.789653\n",
      "[39]\tvalidation_0-merror:0.488182\tvalidation_1-merror:0.785261\n",
      "[40]\tvalidation_0-merror:0.485672\tvalidation_1-merror:0.784773\n",
      "Stopping. Best iteration:\n",
      "[20]\tvalidation_0-merror:0.555532\tvalidation_1-merror:0.780381\n",
      "\n"
     ]
    },
    {
     "name": "stderr",
     "output_type": "stream",
     "text": [
      "/Applications/anaconda3/lib/python3.6/site-packages/sklearn/preprocessing/label.py:151: DeprecationWarning: The truth value of an empty array is ambiguous. Returning False, but in future this will result in an error. Use `array.size > 0` to check that an array is not empty.\n",
      "  if diff:\n",
      "/Applications/anaconda3/lib/python3.6/site-packages/sklearn/preprocessing/label.py:151: DeprecationWarning: The truth value of an empty array is ambiguous. Returning False, but in future this will result in an error. Use `array.size > 0` to check that an array is not empty.\n",
      "  if diff:\n"
     ]
    },
    {
     "name": "stdout",
     "output_type": "stream",
     "text": [
      "[0]\tvalidation_0-merror:0.770341\tvalidation_1-merror:0.857491\n",
      "Multiple eval metrics have been passed: 'validation_1-merror' will be used for early stopping.\n",
      "\n",
      "Will train until validation_1-merror hasn't improved in 20 rounds.\n",
      "[1]\tvalidation_0-merror:0.732483\tvalidation_1-merror:0.841874\n",
      "[2]\tvalidation_0-merror:0.708429\tvalidation_1-merror:0.840898\n",
      "[3]\tvalidation_0-merror:0.693788\tvalidation_1-merror:0.834065\n",
      "[4]\tvalidation_0-merror:0.679774\tvalidation_1-merror:0.82284\n",
      "[5]\tvalidation_0-merror:0.664924\tvalidation_1-merror:0.810639\n",
      "[6]\tvalidation_0-merror:0.654675\tvalidation_1-merror:0.814544\n",
      "[7]\tvalidation_0-merror:0.640243\tvalidation_1-merror:0.809663\n",
      "[8]\tvalidation_0-merror:0.629994\tvalidation_1-merror:0.807711\n",
      "[9]\tvalidation_0-merror:0.613679\tvalidation_1-merror:0.803807\n",
      "[10]\tvalidation_0-merror:0.610751\tvalidation_1-merror:0.803319\n",
      "[11]\tvalidation_0-merror:0.603639\tvalidation_1-merror:0.803807\n",
      "[12]\tvalidation_0-merror:0.596946\tvalidation_1-merror:0.804783\n",
      "[13]\tvalidation_0-merror:0.593181\tvalidation_1-merror:0.801855\n",
      "[14]\tvalidation_0-merror:0.585442\tvalidation_1-merror:0.804295\n",
      "[15]\tvalidation_0-merror:0.582932\tvalidation_1-merror:0.800878\n",
      "[16]\tvalidation_0-merror:0.572265\tvalidation_1-merror:0.796486\n",
      "[17]\tvalidation_0-merror:0.567664\tvalidation_1-merror:0.796486\n",
      "[18]\tvalidation_0-merror:0.562644\tvalidation_1-merror:0.796486\n",
      "[19]\tvalidation_0-merror:0.555741\tvalidation_1-merror:0.791606\n",
      "[20]\tvalidation_0-merror:0.553022\tvalidation_1-merror:0.796974\n",
      "[21]\tvalidation_0-merror:0.544447\tvalidation_1-merror:0.79307\n",
      "[22]\tvalidation_0-merror:0.544238\tvalidation_1-merror:0.790142\n",
      "[23]\tvalidation_0-merror:0.538799\tvalidation_1-merror:0.79307\n",
      "[24]\tvalidation_0-merror:0.535453\tvalidation_1-merror:0.792094\n",
      "[25]\tvalidation_0-merror:0.532734\tvalidation_1-merror:0.79307\n",
      "[26]\tvalidation_0-merror:0.530642\tvalidation_1-merror:0.798438\n",
      "[27]\tvalidation_0-merror:0.526459\tvalidation_1-merror:0.794046\n",
      "[28]\tvalidation_0-merror:0.52625\tvalidation_1-merror:0.798438\n",
      "[29]\tvalidation_0-merror:0.521021\tvalidation_1-merror:0.792582\n",
      "[30]\tvalidation_0-merror:0.518092\tvalidation_1-merror:0.791118\n",
      "[31]\tvalidation_0-merror:0.514537\tvalidation_1-merror:0.79307\n",
      "[32]\tvalidation_0-merror:0.510772\tvalidation_1-merror:0.791118\n",
      "[33]\tvalidation_0-merror:0.507007\tvalidation_1-merror:0.787701\n",
      "[34]\tvalidation_0-merror:0.505124\tvalidation_1-merror:0.793558\n",
      "[35]\tvalidation_0-merror:0.505752\tvalidation_1-merror:0.789653\n",
      "[36]\tvalidation_0-merror:0.499686\tvalidation_1-merror:0.789165\n",
      "[37]\tvalidation_0-merror:0.496758\tvalidation_1-merror:0.794046\n",
      "[38]\tvalidation_0-merror:0.495294\tvalidation_1-merror:0.792094\n",
      "[39]\tvalidation_0-merror:0.490483\tvalidation_1-merror:0.791606\n",
      "[40]\tvalidation_0-merror:0.487346\tvalidation_1-merror:0.789653\n",
      "[41]\tvalidation_0-merror:0.484836\tvalidation_1-merror:0.793558\n",
      "[42]\tvalidation_0-merror:0.482953\tvalidation_1-merror:0.787213\n",
      "[43]\tvalidation_0-merror:0.482953\tvalidation_1-merror:0.787213\n",
      "[44]\tvalidation_0-merror:0.481489\tvalidation_1-merror:0.79063\n",
      "[45]\tvalidation_0-merror:0.478352\tvalidation_1-merror:0.789165\n",
      "[46]\tvalidation_0-merror:0.476888\tvalidation_1-merror:0.788189\n",
      "[47]\tvalidation_0-merror:0.473541\tvalidation_1-merror:0.790142\n",
      "[48]\tvalidation_0-merror:0.469567\tvalidation_1-merror:0.787213\n",
      "[49]\tvalidation_0-merror:0.470404\tvalidation_1-merror:0.786725\n",
      "[50]\tvalidation_0-merror:0.46643\tvalidation_1-merror:0.785749\n",
      "[51]\tvalidation_0-merror:0.466011\tvalidation_1-merror:0.785749\n",
      "[52]\tvalidation_0-merror:0.462456\tvalidation_1-merror:0.782821\n",
      "[53]\tvalidation_0-merror:0.462246\tvalidation_1-merror:0.781357\n",
      "[54]\tvalidation_0-merror:0.461201\tvalidation_1-merror:0.789653\n",
      "[55]\tvalidation_0-merror:0.4589\tvalidation_1-merror:0.787701\n",
      "[56]\tvalidation_0-merror:0.454926\tvalidation_1-merror:0.786725\n",
      "[57]\tvalidation_0-merror:0.451788\tvalidation_1-merror:0.784285\n",
      "[58]\tvalidation_0-merror:0.451579\tvalidation_1-merror:0.785261\n",
      "[59]\tvalidation_0-merror:0.45137\tvalidation_1-merror:0.784285\n",
      "[60]\tvalidation_0-merror:0.450115\tvalidation_1-merror:0.788677\n",
      "[61]\tvalidation_0-merror:0.446978\tvalidation_1-merror:0.790142\n",
      "[62]\tvalidation_0-merror:0.446978\tvalidation_1-merror:0.791606\n",
      "[63]\tvalidation_0-merror:0.444468\tvalidation_1-merror:0.787701\n",
      "[64]\tvalidation_0-merror:0.445932\tvalidation_1-merror:0.787701\n",
      "[65]\tvalidation_0-merror:0.445095\tvalidation_1-merror:0.788189\n",
      "[66]\tvalidation_0-merror:0.444049\tvalidation_1-merror:0.787213\n",
      "[67]\tvalidation_0-merror:0.443004\tvalidation_1-merror:0.786237\n",
      "[68]\tvalidation_0-merror:0.439029\tvalidation_1-merror:0.785749\n",
      "[69]\tvalidation_0-merror:0.436729\tvalidation_1-merror:0.785749\n",
      "[70]\tvalidation_0-merror:0.435892\tvalidation_1-merror:0.787213\n",
      "[71]\tvalidation_0-merror:0.437147\tvalidation_1-merror:0.787213\n",
      "[72]\tvalidation_0-merror:0.434219\tvalidation_1-merror:0.784285\n",
      "[73]\tvalidation_0-merror:0.433382\tvalidation_1-merror:0.784773\n",
      "Stopping. Best iteration:\n",
      "[53]\tvalidation_0-merror:0.462246\tvalidation_1-merror:0.781357\n",
      "\n"
     ]
    },
    {
     "name": "stderr",
     "output_type": "stream",
     "text": [
      "/Applications/anaconda3/lib/python3.6/site-packages/sklearn/preprocessing/label.py:151: DeprecationWarning: The truth value of an empty array is ambiguous. Returning False, but in future this will result in an error. Use `array.size > 0` to check that an array is not empty.\n",
      "  if diff:\n",
      "/Applications/anaconda3/lib/python3.6/site-packages/sklearn/preprocessing/label.py:151: DeprecationWarning: The truth value of an empty array is ambiguous. Returning False, but in future this will result in an error. Use `array.size > 0` to check that an array is not empty.\n",
      "  if diff:\n"
     ]
    },
    {
     "name": "stdout",
     "output_type": "stream",
     "text": [
      "[0]\tvalidation_0-merror:0.772014\tvalidation_1-merror:0.839922\n",
      "Multiple eval metrics have been passed: 'validation_1-merror' will be used for early stopping.\n",
      "\n",
      "Will train until validation_1-merror hasn't improved in 20 rounds.\n",
      "[1]\tvalidation_0-merror:0.73311\tvalidation_1-merror:0.824305\n",
      "[2]\tvalidation_0-merror:0.706965\tvalidation_1-merror:0.820888\n",
      "[3]\tvalidation_0-merror:0.688977\tvalidation_1-merror:0.811127\n",
      "[4]\tvalidation_0-merror:0.674336\tvalidation_1-merror:0.814056\n",
      "[5]\tvalidation_0-merror:0.653629\tvalidation_1-merror:0.810639\n",
      "[6]\tvalidation_0-merror:0.641498\tvalidation_1-merror:0.806735\n",
      "[7]\tvalidation_0-merror:0.623091\tvalidation_1-merror:0.808199\n",
      "[8]\tvalidation_0-merror:0.609705\tvalidation_1-merror:0.808199\n",
      "[9]\tvalidation_0-merror:0.5936\tvalidation_1-merror:0.807711\n",
      "[10]\tvalidation_0-merror:0.585652\tvalidation_1-merror:0.806247\n",
      "[11]\tvalidation_0-merror:0.575612\tvalidation_1-merror:0.799902\n",
      "[12]\tvalidation_0-merror:0.566827\tvalidation_1-merror:0.806247\n",
      "[13]\tvalidation_0-merror:0.554487\tvalidation_1-merror:0.804783\n",
      "[14]\tvalidation_0-merror:0.54612\tvalidation_1-merror:0.795998\n",
      "[15]\tvalidation_0-merror:0.537754\tvalidation_1-merror:0.80039\n",
      "[16]\tvalidation_0-merror:0.53378\tvalidation_1-merror:0.795022\n",
      "[17]\tvalidation_0-merror:0.53127\tvalidation_1-merror:0.792094\n",
      "[18]\tvalidation_0-merror:0.524158\tvalidation_1-merror:0.79551\n",
      "[19]\tvalidation_0-merror:0.5137\tvalidation_1-merror:0.797462\n"
     ]
    },
    {
     "name": "stderr",
     "output_type": "stream",
     "text": [
      "/Applications/anaconda3/lib/python3.6/site-packages/sklearn/preprocessing/label.py:151: DeprecationWarning: The truth value of an empty array is ambiguous. Returning False, but in future this will result in an error. Use `array.size > 0` to check that an array is not empty.\n",
      "  if diff:\n",
      "/Applications/anaconda3/lib/python3.6/site-packages/sklearn/preprocessing/label.py:151: DeprecationWarning: The truth value of an empty array is ambiguous. Returning False, but in future this will result in an error. Use `array.size > 0` to check that an array is not empty.\n",
      "  if diff:\n"
     ]
    },
    {
     "name": "stdout",
     "output_type": "stream",
     "text": [
      "[0]\tvalidation_0-merror:0.770341\tvalidation_1-merror:0.857491\n",
      "Multiple eval metrics have been passed: 'validation_1-merror' will be used for early stopping.\n",
      "\n",
      "Will train until validation_1-merror hasn't improved in 20 rounds.\n",
      "[1]\tvalidation_0-merror:0.731019\tvalidation_1-merror:0.841386\n",
      "[2]\tvalidation_0-merror:0.700063\tvalidation_1-merror:0.834065\n",
      "[3]\tvalidation_0-merror:0.688768\tvalidation_1-merror:0.821864\n",
      "[4]\tvalidation_0-merror:0.666179\tvalidation_1-merror:0.823328\n",
      "[5]\tvalidation_0-merror:0.647145\tvalidation_1-merror:0.81796\n",
      "[6]\tvalidation_0-merror:0.639406\tvalidation_1-merror:0.81552\n",
      "[7]\tvalidation_0-merror:0.627065\tvalidation_1-merror:0.806735\n",
      "[8]\tvalidation_0-merror:0.609705\tvalidation_1-merror:0.809175\n",
      "[9]\tvalidation_0-merror:0.597783\tvalidation_1-merror:0.807711\n",
      "[10]\tvalidation_0-merror:0.587325\tvalidation_1-merror:0.807711\n",
      "[11]\tvalidation_0-merror:0.573311\tvalidation_1-merror:0.805759\n",
      "[12]\tvalidation_0-merror:0.558879\tvalidation_1-merror:0.807711\n",
      "[13]\tvalidation_0-merror:0.550931\tvalidation_1-merror:0.810151\n",
      "[14]\tvalidation_0-merror:0.550512\tvalidation_1-merror:0.809175\n",
      "[15]\tvalidation_0-merror:0.536499\tvalidation_1-merror:0.810639\n",
      "[16]\tvalidation_0-merror:0.528341\tvalidation_1-merror:0.809663\n",
      "[17]\tvalidation_0-merror:0.527296\tvalidation_1-merror:0.807223\n",
      "[18]\tvalidation_0-merror:0.522485\tvalidation_1-merror:0.805271\n",
      "[19]\tvalidation_0-merror:0.510354\tvalidation_1-merror:0.805759\n"
     ]
    },
    {
     "name": "stderr",
     "output_type": "stream",
     "text": [
      "/Applications/anaconda3/lib/python3.6/site-packages/sklearn/preprocessing/label.py:151: DeprecationWarning: The truth value of an empty array is ambiguous. Returning False, but in future this will result in an error. Use `array.size > 0` to check that an array is not empty.\n",
      "  if diff:\n",
      "/Applications/anaconda3/lib/python3.6/site-packages/sklearn/preprocessing/label.py:151: DeprecationWarning: The truth value of an empty array is ambiguous. Returning False, but in future this will result in an error. Use `array.size > 0` to check that an array is not empty.\n",
      "  if diff:\n"
     ]
    },
    {
     "name": "stdout",
     "output_type": "stream",
     "text": [
      "[0]\tvalidation_0-merror:0.772014\tvalidation_1-merror:0.839922\n",
      "Multiple eval metrics have been passed: 'validation_1-merror' will be used for early stopping.\n",
      "\n",
      "Will train until validation_1-merror hasn't improved in 20 rounds.\n",
      "[1]\tvalidation_0-merror:0.73311\tvalidation_1-merror:0.824305\n",
      "[2]\tvalidation_0-merror:0.706965\tvalidation_1-merror:0.820888\n",
      "[3]\tvalidation_0-merror:0.688977\tvalidation_1-merror:0.811127\n",
      "[4]\tvalidation_0-merror:0.674336\tvalidation_1-merror:0.814056\n",
      "[5]\tvalidation_0-merror:0.653629\tvalidation_1-merror:0.810639\n",
      "[6]\tvalidation_0-merror:0.641498\tvalidation_1-merror:0.806735\n",
      "[7]\tvalidation_0-merror:0.623091\tvalidation_1-merror:0.808199\n",
      "[8]\tvalidation_0-merror:0.609705\tvalidation_1-merror:0.808199\n",
      "[9]\tvalidation_0-merror:0.5936\tvalidation_1-merror:0.807711\n",
      "[10]\tvalidation_0-merror:0.585652\tvalidation_1-merror:0.806247\n",
      "[11]\tvalidation_0-merror:0.575612\tvalidation_1-merror:0.799902\n",
      "[12]\tvalidation_0-merror:0.566827\tvalidation_1-merror:0.806247\n",
      "[13]\tvalidation_0-merror:0.554487\tvalidation_1-merror:0.804783\n",
      "[14]\tvalidation_0-merror:0.54612\tvalidation_1-merror:0.795998\n",
      "[15]\tvalidation_0-merror:0.537754\tvalidation_1-merror:0.80039\n",
      "[16]\tvalidation_0-merror:0.53378\tvalidation_1-merror:0.795022\n",
      "[17]\tvalidation_0-merror:0.53127\tvalidation_1-merror:0.792094\n",
      "[18]\tvalidation_0-merror:0.524158\tvalidation_1-merror:0.79551\n",
      "[19]\tvalidation_0-merror:0.5137\tvalidation_1-merror:0.797462\n",
      "[20]\tvalidation_0-merror:0.507425\tvalidation_1-merror:0.792582\n",
      "[21]\tvalidation_0-merror:0.506589\tvalidation_1-merror:0.792094\n",
      "[22]\tvalidation_0-merror:0.499477\tvalidation_1-merror:0.79795\n",
      "[23]\tvalidation_0-merror:0.495712\tvalidation_1-merror:0.80039\n",
      "[24]\tvalidation_0-merror:0.491947\tvalidation_1-merror:0.794534\n",
      "[25]\tvalidation_0-merror:0.486927\tvalidation_1-merror:0.794046\n",
      "[26]\tvalidation_0-merror:0.478979\tvalidation_1-merror:0.79795\n",
      "[27]\tvalidation_0-merror:0.480025\tvalidation_1-merror:0.796974\n",
      "[28]\tvalidation_0-merror:0.475214\tvalidation_1-merror:0.796486\n",
      "[29]\tvalidation_0-merror:0.470613\tvalidation_1-merror:0.797462\n",
      "[30]\tvalidation_0-merror:0.465802\tvalidation_1-merror:0.795998\n",
      "[31]\tvalidation_0-merror:0.460364\tvalidation_1-merror:0.796974\n",
      "[32]\tvalidation_0-merror:0.460573\tvalidation_1-merror:0.794534\n",
      "[33]\tvalidation_0-merror:0.458481\tvalidation_1-merror:0.793558\n",
      "[34]\tvalidation_0-merror:0.454717\tvalidation_1-merror:0.792094\n",
      "[35]\tvalidation_0-merror:0.45137\tvalidation_1-merror:0.792582\n",
      "[36]\tvalidation_0-merror:0.450743\tvalidation_1-merror:0.792582\n",
      "[37]\tvalidation_0-merror:0.445304\tvalidation_1-merror:0.79551\n",
      "Stopping. Best iteration:\n",
      "[17]\tvalidation_0-merror:0.53127\tvalidation_1-merror:0.792094\n",
      "\n"
     ]
    },
    {
     "name": "stderr",
     "output_type": "stream",
     "text": [
      "/Applications/anaconda3/lib/python3.6/site-packages/sklearn/preprocessing/label.py:151: DeprecationWarning: The truth value of an empty array is ambiguous. Returning False, but in future this will result in an error. Use `array.size > 0` to check that an array is not empty.\n",
      "  if diff:\n",
      "/Applications/anaconda3/lib/python3.6/site-packages/sklearn/preprocessing/label.py:151: DeprecationWarning: The truth value of an empty array is ambiguous. Returning False, but in future this will result in an error. Use `array.size > 0` to check that an array is not empty.\n",
      "  if diff:\n"
     ]
    },
    {
     "name": "stdout",
     "output_type": "stream",
     "text": [
      "[0]\tvalidation_0-merror:0.770341\tvalidation_1-merror:0.857491\n",
      "Multiple eval metrics have been passed: 'validation_1-merror' will be used for early stopping.\n",
      "\n",
      "Will train until validation_1-merror hasn't improved in 20 rounds.\n",
      "[1]\tvalidation_0-merror:0.731019\tvalidation_1-merror:0.841386\n",
      "[2]\tvalidation_0-merror:0.700063\tvalidation_1-merror:0.834065\n",
      "[3]\tvalidation_0-merror:0.688768\tvalidation_1-merror:0.821864\n",
      "[4]\tvalidation_0-merror:0.666179\tvalidation_1-merror:0.823328\n",
      "[5]\tvalidation_0-merror:0.647145\tvalidation_1-merror:0.81796\n",
      "[6]\tvalidation_0-merror:0.639406\tvalidation_1-merror:0.81552\n",
      "[7]\tvalidation_0-merror:0.627065\tvalidation_1-merror:0.806735\n",
      "[8]\tvalidation_0-merror:0.609705\tvalidation_1-merror:0.809175\n",
      "[9]\tvalidation_0-merror:0.597783\tvalidation_1-merror:0.807711\n",
      "[10]\tvalidation_0-merror:0.587325\tvalidation_1-merror:0.807711\n",
      "[11]\tvalidation_0-merror:0.573311\tvalidation_1-merror:0.805759\n",
      "[12]\tvalidation_0-merror:0.558879\tvalidation_1-merror:0.807711\n",
      "[13]\tvalidation_0-merror:0.550931\tvalidation_1-merror:0.810151\n",
      "[14]\tvalidation_0-merror:0.550512\tvalidation_1-merror:0.809175\n",
      "[15]\tvalidation_0-merror:0.536499\tvalidation_1-merror:0.810639\n",
      "[16]\tvalidation_0-merror:0.528341\tvalidation_1-merror:0.809663\n",
      "[17]\tvalidation_0-merror:0.527296\tvalidation_1-merror:0.807223\n",
      "[18]\tvalidation_0-merror:0.522485\tvalidation_1-merror:0.805271\n",
      "[19]\tvalidation_0-merror:0.510354\tvalidation_1-merror:0.805759\n",
      "[20]\tvalidation_0-merror:0.506589\tvalidation_1-merror:0.805759\n",
      "[21]\tvalidation_0-merror:0.502614\tvalidation_1-merror:0.808199\n",
      "[22]\tvalidation_0-merror:0.498222\tvalidation_1-merror:0.806247\n",
      "[23]\tvalidation_0-merror:0.491111\tvalidation_1-merror:0.803807\n",
      "[24]\tvalidation_0-merror:0.487555\tvalidation_1-merror:0.803319\n",
      "[25]\tvalidation_0-merror:0.487973\tvalidation_1-merror:0.804783\n",
      "[26]\tvalidation_0-merror:0.486091\tvalidation_1-merror:0.806735\n",
      "[27]\tvalidation_0-merror:0.479398\tvalidation_1-merror:0.804783\n",
      "[28]\tvalidation_0-merror:0.471449\tvalidation_1-merror:0.801855\n",
      "[29]\tvalidation_0-merror:0.470613\tvalidation_1-merror:0.79795\n",
      "[30]\tvalidation_0-merror:0.464756\tvalidation_1-merror:0.796486\n",
      "[31]\tvalidation_0-merror:0.466639\tvalidation_1-merror:0.795998\n",
      "[32]\tvalidation_0-merror:0.46141\tvalidation_1-merror:0.794534\n",
      "[33]\tvalidation_0-merror:0.458481\tvalidation_1-merror:0.79307\n",
      "[34]\tvalidation_0-merror:0.456181\tvalidation_1-merror:0.796974\n",
      "[35]\tvalidation_0-merror:0.453671\tvalidation_1-merror:0.798926\n",
      "[36]\tvalidation_0-merror:0.447396\tvalidation_1-merror:0.794046\n",
      "[37]\tvalidation_0-merror:0.445304\tvalidation_1-merror:0.793558\n",
      "[38]\tvalidation_0-merror:0.44133\tvalidation_1-merror:0.791606\n",
      "[39]\tvalidation_0-merror:0.439448\tvalidation_1-merror:0.79551\n"
     ]
    },
    {
     "name": "stderr",
     "output_type": "stream",
     "text": [
      "/Applications/anaconda3/lib/python3.6/site-packages/sklearn/preprocessing/label.py:151: DeprecationWarning: The truth value of an empty array is ambiguous. Returning False, but in future this will result in an error. Use `array.size > 0` to check that an array is not empty.\n",
      "  if diff:\n",
      "/Applications/anaconda3/lib/python3.6/site-packages/sklearn/preprocessing/label.py:151: DeprecationWarning: The truth value of an empty array is ambiguous. Returning False, but in future this will result in an error. Use `array.size > 0` to check that an array is not empty.\n",
      "  if diff:\n"
     ]
    },
    {
     "name": "stdout",
     "output_type": "stream",
     "text": [
      "[0]\tvalidation_0-merror:0.772014\tvalidation_1-merror:0.839922\n",
      "Multiple eval metrics have been passed: 'validation_1-merror' will be used for early stopping.\n",
      "\n",
      "Will train until validation_1-merror hasn't improved in 20 rounds.\n",
      "[1]\tvalidation_0-merror:0.73311\tvalidation_1-merror:0.824305\n",
      "[2]\tvalidation_0-merror:0.706965\tvalidation_1-merror:0.820888\n",
      "[3]\tvalidation_0-merror:0.688977\tvalidation_1-merror:0.811127\n",
      "[4]\tvalidation_0-merror:0.674336\tvalidation_1-merror:0.814056\n",
      "[5]\tvalidation_0-merror:0.653629\tvalidation_1-merror:0.810639\n",
      "[6]\tvalidation_0-merror:0.641498\tvalidation_1-merror:0.806735\n",
      "[7]\tvalidation_0-merror:0.623091\tvalidation_1-merror:0.808199\n",
      "[8]\tvalidation_0-merror:0.609705\tvalidation_1-merror:0.808199\n",
      "[9]\tvalidation_0-merror:0.5936\tvalidation_1-merror:0.807711\n",
      "[10]\tvalidation_0-merror:0.585652\tvalidation_1-merror:0.806247\n",
      "[11]\tvalidation_0-merror:0.575612\tvalidation_1-merror:0.799902\n",
      "[12]\tvalidation_0-merror:0.566827\tvalidation_1-merror:0.806247\n",
      "[13]\tvalidation_0-merror:0.554487\tvalidation_1-merror:0.804783\n",
      "[14]\tvalidation_0-merror:0.54612\tvalidation_1-merror:0.795998\n",
      "[15]\tvalidation_0-merror:0.537754\tvalidation_1-merror:0.80039\n",
      "[16]\tvalidation_0-merror:0.53378\tvalidation_1-merror:0.795022\n",
      "[17]\tvalidation_0-merror:0.53127\tvalidation_1-merror:0.792094\n",
      "[18]\tvalidation_0-merror:0.524158\tvalidation_1-merror:0.79551\n",
      "[19]\tvalidation_0-merror:0.5137\tvalidation_1-merror:0.797462\n",
      "[20]\tvalidation_0-merror:0.507425\tvalidation_1-merror:0.792582\n",
      "[21]\tvalidation_0-merror:0.506589\tvalidation_1-merror:0.792094\n",
      "[22]\tvalidation_0-merror:0.499477\tvalidation_1-merror:0.79795\n",
      "[23]\tvalidation_0-merror:0.495712\tvalidation_1-merror:0.80039\n",
      "[24]\tvalidation_0-merror:0.491947\tvalidation_1-merror:0.794534\n",
      "[25]\tvalidation_0-merror:0.486927\tvalidation_1-merror:0.794046\n",
      "[26]\tvalidation_0-merror:0.478979\tvalidation_1-merror:0.79795\n",
      "[27]\tvalidation_0-merror:0.480025\tvalidation_1-merror:0.796974\n",
      "[28]\tvalidation_0-merror:0.475214\tvalidation_1-merror:0.796486\n",
      "[29]\tvalidation_0-merror:0.470613\tvalidation_1-merror:0.797462\n",
      "[30]\tvalidation_0-merror:0.465802\tvalidation_1-merror:0.795998\n",
      "[31]\tvalidation_0-merror:0.460364\tvalidation_1-merror:0.796974\n",
      "[32]\tvalidation_0-merror:0.460573\tvalidation_1-merror:0.794534\n",
      "[33]\tvalidation_0-merror:0.458481\tvalidation_1-merror:0.793558\n",
      "[34]\tvalidation_0-merror:0.454717\tvalidation_1-merror:0.792094\n",
      "[35]\tvalidation_0-merror:0.45137\tvalidation_1-merror:0.792582\n",
      "[36]\tvalidation_0-merror:0.450743\tvalidation_1-merror:0.792582\n",
      "[37]\tvalidation_0-merror:0.445304\tvalidation_1-merror:0.79551\n",
      "Stopping. Best iteration:\n",
      "[17]\tvalidation_0-merror:0.53127\tvalidation_1-merror:0.792094\n",
      "\n"
     ]
    },
    {
     "name": "stderr",
     "output_type": "stream",
     "text": [
      "/Applications/anaconda3/lib/python3.6/site-packages/sklearn/preprocessing/label.py:151: DeprecationWarning: The truth value of an empty array is ambiguous. Returning False, but in future this will result in an error. Use `array.size > 0` to check that an array is not empty.\n",
      "  if diff:\n",
      "/Applications/anaconda3/lib/python3.6/site-packages/sklearn/preprocessing/label.py:151: DeprecationWarning: The truth value of an empty array is ambiguous. Returning False, but in future this will result in an error. Use `array.size > 0` to check that an array is not empty.\n",
      "  if diff:\n"
     ]
    },
    {
     "name": "stdout",
     "output_type": "stream",
     "text": [
      "[0]\tvalidation_0-merror:0.770341\tvalidation_1-merror:0.857491\n",
      "Multiple eval metrics have been passed: 'validation_1-merror' will be used for early stopping.\n",
      "\n",
      "Will train until validation_1-merror hasn't improved in 20 rounds.\n",
      "[1]\tvalidation_0-merror:0.731019\tvalidation_1-merror:0.841386\n",
      "[2]\tvalidation_0-merror:0.700063\tvalidation_1-merror:0.834065\n",
      "[3]\tvalidation_0-merror:0.688768\tvalidation_1-merror:0.821864\n",
      "[4]\tvalidation_0-merror:0.666179\tvalidation_1-merror:0.823328\n",
      "[5]\tvalidation_0-merror:0.647145\tvalidation_1-merror:0.81796\n",
      "[6]\tvalidation_0-merror:0.639406\tvalidation_1-merror:0.81552\n",
      "[7]\tvalidation_0-merror:0.627065\tvalidation_1-merror:0.806735\n",
      "[8]\tvalidation_0-merror:0.609705\tvalidation_1-merror:0.809175\n",
      "[9]\tvalidation_0-merror:0.597783\tvalidation_1-merror:0.807711\n",
      "[10]\tvalidation_0-merror:0.587325\tvalidation_1-merror:0.807711\n",
      "[11]\tvalidation_0-merror:0.573311\tvalidation_1-merror:0.805759\n",
      "[12]\tvalidation_0-merror:0.558879\tvalidation_1-merror:0.807711\n",
      "[13]\tvalidation_0-merror:0.550931\tvalidation_1-merror:0.810151\n",
      "[14]\tvalidation_0-merror:0.550512\tvalidation_1-merror:0.809175\n",
      "[15]\tvalidation_0-merror:0.536499\tvalidation_1-merror:0.810639\n",
      "[16]\tvalidation_0-merror:0.528341\tvalidation_1-merror:0.809663\n",
      "[17]\tvalidation_0-merror:0.527296\tvalidation_1-merror:0.807223\n",
      "[18]\tvalidation_0-merror:0.522485\tvalidation_1-merror:0.805271\n",
      "[19]\tvalidation_0-merror:0.510354\tvalidation_1-merror:0.805759\n",
      "[20]\tvalidation_0-merror:0.506589\tvalidation_1-merror:0.805759\n",
      "[21]\tvalidation_0-merror:0.502614\tvalidation_1-merror:0.808199\n",
      "[22]\tvalidation_0-merror:0.498222\tvalidation_1-merror:0.806247\n",
      "[23]\tvalidation_0-merror:0.491111\tvalidation_1-merror:0.803807\n",
      "[24]\tvalidation_0-merror:0.487555\tvalidation_1-merror:0.803319\n",
      "[25]\tvalidation_0-merror:0.487973\tvalidation_1-merror:0.804783\n",
      "[26]\tvalidation_0-merror:0.486091\tvalidation_1-merror:0.806735\n",
      "[27]\tvalidation_0-merror:0.479398\tvalidation_1-merror:0.804783\n",
      "[28]\tvalidation_0-merror:0.471449\tvalidation_1-merror:0.801855\n",
      "[29]\tvalidation_0-merror:0.470613\tvalidation_1-merror:0.79795\n",
      "[30]\tvalidation_0-merror:0.464756\tvalidation_1-merror:0.796486\n",
      "[31]\tvalidation_0-merror:0.466639\tvalidation_1-merror:0.795998\n",
      "[32]\tvalidation_0-merror:0.46141\tvalidation_1-merror:0.794534\n",
      "[33]\tvalidation_0-merror:0.458481\tvalidation_1-merror:0.79307\n",
      "[34]\tvalidation_0-merror:0.456181\tvalidation_1-merror:0.796974\n",
      "[35]\tvalidation_0-merror:0.453671\tvalidation_1-merror:0.798926\n",
      "[36]\tvalidation_0-merror:0.447396\tvalidation_1-merror:0.794046\n",
      "[37]\tvalidation_0-merror:0.445304\tvalidation_1-merror:0.793558\n",
      "[38]\tvalidation_0-merror:0.44133\tvalidation_1-merror:0.791606\n",
      "[39]\tvalidation_0-merror:0.439448\tvalidation_1-merror:0.79551\n",
      "[40]\tvalidation_0-merror:0.439657\tvalidation_1-merror:0.79307\n",
      "[41]\tvalidation_0-merror:0.434846\tvalidation_1-merror:0.785749\n",
      "[42]\tvalidation_0-merror:0.432755\tvalidation_1-merror:0.789653\n",
      "[43]\tvalidation_0-merror:0.429408\tvalidation_1-merror:0.79063\n",
      "[44]\tvalidation_0-merror:0.427944\tvalidation_1-merror:0.79307\n",
      "[45]\tvalidation_0-merror:0.426061\tvalidation_1-merror:0.789165\n",
      "[46]\tvalidation_0-merror:0.424597\tvalidation_1-merror:0.789165\n",
      "[47]\tvalidation_0-merror:0.420205\tvalidation_1-merror:0.793558\n",
      "[48]\tvalidation_0-merror:0.419787\tvalidation_1-merror:0.792582\n",
      "[49]\tvalidation_0-merror:0.418532\tvalidation_1-merror:0.794046\n",
      "[50]\tvalidation_0-merror:0.417904\tvalidation_1-merror:0.792094\n",
      "[51]\tvalidation_0-merror:0.417486\tvalidation_1-merror:0.789653\n",
      "[52]\tvalidation_0-merror:0.41393\tvalidation_1-merror:0.787701\n",
      "[53]\tvalidation_0-merror:0.414139\tvalidation_1-merror:0.788677\n",
      "[54]\tvalidation_0-merror:0.413303\tvalidation_1-merror:0.792094\n",
      "[55]\tvalidation_0-merror:0.410793\tvalidation_1-merror:0.790142\n",
      "[56]\tvalidation_0-merror:0.409538\tvalidation_1-merror:0.792582\n",
      "[57]\tvalidation_0-merror:0.409329\tvalidation_1-merror:0.790142\n",
      "[58]\tvalidation_0-merror:0.409119\tvalidation_1-merror:0.79551\n",
      "[59]\tvalidation_0-merror:0.407237\tvalidation_1-merror:0.792094\n"
     ]
    },
    {
     "name": "stderr",
     "output_type": "stream",
     "text": [
      "/Applications/anaconda3/lib/python3.6/site-packages/sklearn/preprocessing/label.py:151: DeprecationWarning: The truth value of an empty array is ambiguous. Returning False, but in future this will result in an error. Use `array.size > 0` to check that an array is not empty.\n",
      "  if diff:\n",
      "/Applications/anaconda3/lib/python3.6/site-packages/sklearn/preprocessing/label.py:151: DeprecationWarning: The truth value of an empty array is ambiguous. Returning False, but in future this will result in an error. Use `array.size > 0` to check that an array is not empty.\n",
      "  if diff:\n"
     ]
    },
    {
     "name": "stdout",
     "output_type": "stream",
     "text": [
      "[0]\tvalidation_0-merror:0.772014\tvalidation_1-merror:0.839922\n",
      "Multiple eval metrics have been passed: 'validation_1-merror' will be used for early stopping.\n",
      "\n",
      "Will train until validation_1-merror hasn't improved in 20 rounds.\n",
      "[1]\tvalidation_0-merror:0.73311\tvalidation_1-merror:0.824305\n",
      "[2]\tvalidation_0-merror:0.706965\tvalidation_1-merror:0.820888\n",
      "[3]\tvalidation_0-merror:0.688977\tvalidation_1-merror:0.811127\n",
      "[4]\tvalidation_0-merror:0.674336\tvalidation_1-merror:0.814056\n",
      "[5]\tvalidation_0-merror:0.653629\tvalidation_1-merror:0.810639\n",
      "[6]\tvalidation_0-merror:0.641498\tvalidation_1-merror:0.806735\n",
      "[7]\tvalidation_0-merror:0.623091\tvalidation_1-merror:0.808199\n",
      "[8]\tvalidation_0-merror:0.609705\tvalidation_1-merror:0.808199\n",
      "[9]\tvalidation_0-merror:0.5936\tvalidation_1-merror:0.807711\n",
      "[10]\tvalidation_0-merror:0.585652\tvalidation_1-merror:0.806247\n",
      "[11]\tvalidation_0-merror:0.575612\tvalidation_1-merror:0.799902\n",
      "[12]\tvalidation_0-merror:0.566827\tvalidation_1-merror:0.806247\n",
      "[13]\tvalidation_0-merror:0.554487\tvalidation_1-merror:0.804783\n",
      "[14]\tvalidation_0-merror:0.54612\tvalidation_1-merror:0.795998\n",
      "[15]\tvalidation_0-merror:0.537754\tvalidation_1-merror:0.80039\n",
      "[16]\tvalidation_0-merror:0.53378\tvalidation_1-merror:0.795022\n",
      "[17]\tvalidation_0-merror:0.53127\tvalidation_1-merror:0.792094\n",
      "[18]\tvalidation_0-merror:0.524158\tvalidation_1-merror:0.79551\n",
      "[19]\tvalidation_0-merror:0.5137\tvalidation_1-merror:0.797462\n",
      "[20]\tvalidation_0-merror:0.507425\tvalidation_1-merror:0.792582\n",
      "[21]\tvalidation_0-merror:0.506589\tvalidation_1-merror:0.792094\n",
      "[22]\tvalidation_0-merror:0.499477\tvalidation_1-merror:0.79795\n",
      "[23]\tvalidation_0-merror:0.495712\tvalidation_1-merror:0.80039\n",
      "[24]\tvalidation_0-merror:0.491947\tvalidation_1-merror:0.794534\n",
      "[25]\tvalidation_0-merror:0.486927\tvalidation_1-merror:0.794046\n",
      "[26]\tvalidation_0-merror:0.478979\tvalidation_1-merror:0.79795\n",
      "[27]\tvalidation_0-merror:0.480025\tvalidation_1-merror:0.796974\n",
      "[28]\tvalidation_0-merror:0.475214\tvalidation_1-merror:0.796486\n",
      "[29]\tvalidation_0-merror:0.470613\tvalidation_1-merror:0.797462\n",
      "[30]\tvalidation_0-merror:0.465802\tvalidation_1-merror:0.795998\n",
      "[31]\tvalidation_0-merror:0.460364\tvalidation_1-merror:0.796974\n",
      "[32]\tvalidation_0-merror:0.460573\tvalidation_1-merror:0.794534\n",
      "[33]\tvalidation_0-merror:0.458481\tvalidation_1-merror:0.793558\n",
      "[34]\tvalidation_0-merror:0.454717\tvalidation_1-merror:0.792094\n",
      "[35]\tvalidation_0-merror:0.45137\tvalidation_1-merror:0.792582\n",
      "[36]\tvalidation_0-merror:0.450743\tvalidation_1-merror:0.792582\n",
      "[37]\tvalidation_0-merror:0.445304\tvalidation_1-merror:0.79551\n",
      "Stopping. Best iteration:\n",
      "[17]\tvalidation_0-merror:0.53127\tvalidation_1-merror:0.792094\n",
      "\n"
     ]
    },
    {
     "name": "stderr",
     "output_type": "stream",
     "text": [
      "/Applications/anaconda3/lib/python3.6/site-packages/sklearn/preprocessing/label.py:151: DeprecationWarning: The truth value of an empty array is ambiguous. Returning False, but in future this will result in an error. Use `array.size > 0` to check that an array is not empty.\n",
      "  if diff:\n",
      "/Applications/anaconda3/lib/python3.6/site-packages/sklearn/preprocessing/label.py:151: DeprecationWarning: The truth value of an empty array is ambiguous. Returning False, but in future this will result in an error. Use `array.size > 0` to check that an array is not empty.\n",
      "  if diff:\n"
     ]
    },
    {
     "name": "stdout",
     "output_type": "stream",
     "text": [
      "[0]\tvalidation_0-merror:0.770341\tvalidation_1-merror:0.857491\n",
      "Multiple eval metrics have been passed: 'validation_1-merror' will be used for early stopping.\n",
      "\n",
      "Will train until validation_1-merror hasn't improved in 20 rounds.\n",
      "[1]\tvalidation_0-merror:0.731019\tvalidation_1-merror:0.841386\n",
      "[2]\tvalidation_0-merror:0.700063\tvalidation_1-merror:0.834065\n",
      "[3]\tvalidation_0-merror:0.688768\tvalidation_1-merror:0.821864\n",
      "[4]\tvalidation_0-merror:0.666179\tvalidation_1-merror:0.823328\n",
      "[5]\tvalidation_0-merror:0.647145\tvalidation_1-merror:0.81796\n",
      "[6]\tvalidation_0-merror:0.639406\tvalidation_1-merror:0.81552\n",
      "[7]\tvalidation_0-merror:0.627065\tvalidation_1-merror:0.806735\n",
      "[8]\tvalidation_0-merror:0.609705\tvalidation_1-merror:0.809175\n",
      "[9]\tvalidation_0-merror:0.597783\tvalidation_1-merror:0.807711\n",
      "[10]\tvalidation_0-merror:0.587325\tvalidation_1-merror:0.807711\n",
      "[11]\tvalidation_0-merror:0.573311\tvalidation_1-merror:0.805759\n",
      "[12]\tvalidation_0-merror:0.558879\tvalidation_1-merror:0.807711\n",
      "[13]\tvalidation_0-merror:0.550931\tvalidation_1-merror:0.810151\n",
      "[14]\tvalidation_0-merror:0.550512\tvalidation_1-merror:0.809175\n",
      "[15]\tvalidation_0-merror:0.536499\tvalidation_1-merror:0.810639\n",
      "[16]\tvalidation_0-merror:0.528341\tvalidation_1-merror:0.809663\n",
      "[17]\tvalidation_0-merror:0.527296\tvalidation_1-merror:0.807223\n",
      "[18]\tvalidation_0-merror:0.522485\tvalidation_1-merror:0.805271\n",
      "[19]\tvalidation_0-merror:0.510354\tvalidation_1-merror:0.805759\n",
      "[20]\tvalidation_0-merror:0.506589\tvalidation_1-merror:0.805759\n",
      "[21]\tvalidation_0-merror:0.502614\tvalidation_1-merror:0.808199\n",
      "[22]\tvalidation_0-merror:0.498222\tvalidation_1-merror:0.806247\n",
      "[23]\tvalidation_0-merror:0.491111\tvalidation_1-merror:0.803807\n",
      "[24]\tvalidation_0-merror:0.487555\tvalidation_1-merror:0.803319\n",
      "[25]\tvalidation_0-merror:0.487973\tvalidation_1-merror:0.804783\n",
      "[26]\tvalidation_0-merror:0.486091\tvalidation_1-merror:0.806735\n",
      "[27]\tvalidation_0-merror:0.479398\tvalidation_1-merror:0.804783\n",
      "[28]\tvalidation_0-merror:0.471449\tvalidation_1-merror:0.801855\n",
      "[29]\tvalidation_0-merror:0.470613\tvalidation_1-merror:0.79795\n",
      "[30]\tvalidation_0-merror:0.464756\tvalidation_1-merror:0.796486\n",
      "[31]\tvalidation_0-merror:0.466639\tvalidation_1-merror:0.795998\n",
      "[32]\tvalidation_0-merror:0.46141\tvalidation_1-merror:0.794534\n",
      "[33]\tvalidation_0-merror:0.458481\tvalidation_1-merror:0.79307\n",
      "[34]\tvalidation_0-merror:0.456181\tvalidation_1-merror:0.796974\n",
      "[35]\tvalidation_0-merror:0.453671\tvalidation_1-merror:0.798926\n",
      "[36]\tvalidation_0-merror:0.447396\tvalidation_1-merror:0.794046\n",
      "[37]\tvalidation_0-merror:0.445304\tvalidation_1-merror:0.793558\n",
      "[38]\tvalidation_0-merror:0.44133\tvalidation_1-merror:0.791606\n",
      "[39]\tvalidation_0-merror:0.439448\tvalidation_1-merror:0.79551\n",
      "[40]\tvalidation_0-merror:0.439657\tvalidation_1-merror:0.79307\n",
      "[41]\tvalidation_0-merror:0.434846\tvalidation_1-merror:0.785749\n",
      "[42]\tvalidation_0-merror:0.432755\tvalidation_1-merror:0.789653\n",
      "[43]\tvalidation_0-merror:0.429408\tvalidation_1-merror:0.79063\n",
      "[44]\tvalidation_0-merror:0.427944\tvalidation_1-merror:0.79307\n",
      "[45]\tvalidation_0-merror:0.426061\tvalidation_1-merror:0.789165\n",
      "[46]\tvalidation_0-merror:0.424597\tvalidation_1-merror:0.789165\n",
      "[47]\tvalidation_0-merror:0.420205\tvalidation_1-merror:0.793558\n",
      "[48]\tvalidation_0-merror:0.419787\tvalidation_1-merror:0.792582\n",
      "[49]\tvalidation_0-merror:0.418532\tvalidation_1-merror:0.794046\n",
      "[50]\tvalidation_0-merror:0.417904\tvalidation_1-merror:0.792094\n",
      "[51]\tvalidation_0-merror:0.417486\tvalidation_1-merror:0.789653\n",
      "[52]\tvalidation_0-merror:0.41393\tvalidation_1-merror:0.787701\n",
      "[53]\tvalidation_0-merror:0.414139\tvalidation_1-merror:0.788677\n",
      "[54]\tvalidation_0-merror:0.413303\tvalidation_1-merror:0.792094\n",
      "[55]\tvalidation_0-merror:0.410793\tvalidation_1-merror:0.790142\n",
      "[56]\tvalidation_0-merror:0.409538\tvalidation_1-merror:0.792582\n",
      "[57]\tvalidation_0-merror:0.409329\tvalidation_1-merror:0.790142\n",
      "[58]\tvalidation_0-merror:0.409119\tvalidation_1-merror:0.79551\n",
      "[59]\tvalidation_0-merror:0.407237\tvalidation_1-merror:0.792094\n",
      "[60]\tvalidation_0-merror:0.405773\tvalidation_1-merror:0.793558\n",
      "[61]\tvalidation_0-merror:0.405773\tvalidation_1-merror:0.791118\n",
      "Stopping. Best iteration:\n",
      "[41]\tvalidation_0-merror:0.434846\tvalidation_1-merror:0.785749\n",
      "\n"
     ]
    },
    {
     "name": "stderr",
     "output_type": "stream",
     "text": [
      "/Applications/anaconda3/lib/python3.6/site-packages/sklearn/preprocessing/label.py:151: DeprecationWarning: The truth value of an empty array is ambiguous. Returning False, but in future this will result in an error. Use `array.size > 0` to check that an array is not empty.\n",
      "  if diff:\n",
      "/Applications/anaconda3/lib/python3.6/site-packages/sklearn/preprocessing/label.py:151: DeprecationWarning: The truth value of an empty array is ambiguous. Returning False, but in future this will result in an error. Use `array.size > 0` to check that an array is not empty.\n",
      "  if diff:\n"
     ]
    },
    {
     "name": "stdout",
     "output_type": "stream",
     "text": [
      "[0]\tvalidation_0-merror:0.772014\tvalidation_1-merror:0.839922\n",
      "Multiple eval metrics have been passed: 'validation_1-merror' will be used for early stopping.\n",
      "\n",
      "Will train until validation_1-merror hasn't improved in 20 rounds.\n",
      "[1]\tvalidation_0-merror:0.73311\tvalidation_1-merror:0.824305\n",
      "[2]\tvalidation_0-merror:0.706965\tvalidation_1-merror:0.820888\n",
      "[3]\tvalidation_0-merror:0.688977\tvalidation_1-merror:0.811127\n",
      "[4]\tvalidation_0-merror:0.674336\tvalidation_1-merror:0.814056\n",
      "[5]\tvalidation_0-merror:0.653629\tvalidation_1-merror:0.810639\n",
      "[6]\tvalidation_0-merror:0.641498\tvalidation_1-merror:0.806735\n",
      "[7]\tvalidation_0-merror:0.623091\tvalidation_1-merror:0.808199\n",
      "[8]\tvalidation_0-merror:0.609705\tvalidation_1-merror:0.808199\n",
      "[9]\tvalidation_0-merror:0.5936\tvalidation_1-merror:0.807711\n",
      "[10]\tvalidation_0-merror:0.585652\tvalidation_1-merror:0.806247\n",
      "[11]\tvalidation_0-merror:0.575612\tvalidation_1-merror:0.799902\n",
      "[12]\tvalidation_0-merror:0.566827\tvalidation_1-merror:0.806247\n",
      "[13]\tvalidation_0-merror:0.554487\tvalidation_1-merror:0.804783\n",
      "[14]\tvalidation_0-merror:0.54612\tvalidation_1-merror:0.795998\n",
      "[15]\tvalidation_0-merror:0.537754\tvalidation_1-merror:0.80039\n",
      "[16]\tvalidation_0-merror:0.53378\tvalidation_1-merror:0.795022\n",
      "[17]\tvalidation_0-merror:0.53127\tvalidation_1-merror:0.792094\n",
      "[18]\tvalidation_0-merror:0.524158\tvalidation_1-merror:0.79551\n",
      "[19]\tvalidation_0-merror:0.5137\tvalidation_1-merror:0.797462\n",
      "[20]\tvalidation_0-merror:0.507425\tvalidation_1-merror:0.792582\n",
      "[21]\tvalidation_0-merror:0.506589\tvalidation_1-merror:0.792094\n",
      "[22]\tvalidation_0-merror:0.499477\tvalidation_1-merror:0.79795\n",
      "[23]\tvalidation_0-merror:0.495712\tvalidation_1-merror:0.80039\n",
      "[24]\tvalidation_0-merror:0.491947\tvalidation_1-merror:0.794534\n",
      "[25]\tvalidation_0-merror:0.486927\tvalidation_1-merror:0.794046\n",
      "[26]\tvalidation_0-merror:0.478979\tvalidation_1-merror:0.79795\n",
      "[27]\tvalidation_0-merror:0.480025\tvalidation_1-merror:0.796974\n",
      "[28]\tvalidation_0-merror:0.475214\tvalidation_1-merror:0.796486\n",
      "[29]\tvalidation_0-merror:0.470613\tvalidation_1-merror:0.797462\n",
      "[30]\tvalidation_0-merror:0.465802\tvalidation_1-merror:0.795998\n",
      "[31]\tvalidation_0-merror:0.460364\tvalidation_1-merror:0.796974\n",
      "[32]\tvalidation_0-merror:0.460573\tvalidation_1-merror:0.794534\n",
      "[33]\tvalidation_0-merror:0.458481\tvalidation_1-merror:0.793558\n",
      "[34]\tvalidation_0-merror:0.454717\tvalidation_1-merror:0.792094\n",
      "[35]\tvalidation_0-merror:0.45137\tvalidation_1-merror:0.792582\n",
      "[36]\tvalidation_0-merror:0.450743\tvalidation_1-merror:0.792582\n",
      "[37]\tvalidation_0-merror:0.445304\tvalidation_1-merror:0.79551\n",
      "Stopping. Best iteration:\n",
      "[17]\tvalidation_0-merror:0.53127\tvalidation_1-merror:0.792094\n",
      "\n"
     ]
    },
    {
     "name": "stderr",
     "output_type": "stream",
     "text": [
      "/Applications/anaconda3/lib/python3.6/site-packages/sklearn/preprocessing/label.py:151: DeprecationWarning: The truth value of an empty array is ambiguous. Returning False, but in future this will result in an error. Use `array.size > 0` to check that an array is not empty.\n",
      "  if diff:\n",
      "/Applications/anaconda3/lib/python3.6/site-packages/sklearn/preprocessing/label.py:151: DeprecationWarning: The truth value of an empty array is ambiguous. Returning False, but in future this will result in an error. Use `array.size > 0` to check that an array is not empty.\n",
      "  if diff:\n"
     ]
    },
    {
     "name": "stdout",
     "output_type": "stream",
     "text": [
      "[0]\tvalidation_0-merror:0.770341\tvalidation_1-merror:0.857491\n",
      "Multiple eval metrics have been passed: 'validation_1-merror' will be used for early stopping.\n",
      "\n",
      "Will train until validation_1-merror hasn't improved in 20 rounds.\n",
      "[1]\tvalidation_0-merror:0.731019\tvalidation_1-merror:0.841386\n",
      "[2]\tvalidation_0-merror:0.700063\tvalidation_1-merror:0.834065\n",
      "[3]\tvalidation_0-merror:0.688768\tvalidation_1-merror:0.821864\n",
      "[4]\tvalidation_0-merror:0.666179\tvalidation_1-merror:0.823328\n",
      "[5]\tvalidation_0-merror:0.647145\tvalidation_1-merror:0.81796\n",
      "[6]\tvalidation_0-merror:0.639406\tvalidation_1-merror:0.81552\n",
      "[7]\tvalidation_0-merror:0.627065\tvalidation_1-merror:0.806735\n",
      "[8]\tvalidation_0-merror:0.609705\tvalidation_1-merror:0.809175\n",
      "[9]\tvalidation_0-merror:0.597783\tvalidation_1-merror:0.807711\n",
      "[10]\tvalidation_0-merror:0.587325\tvalidation_1-merror:0.807711\n",
      "[11]\tvalidation_0-merror:0.573311\tvalidation_1-merror:0.805759\n",
      "[12]\tvalidation_0-merror:0.558879\tvalidation_1-merror:0.807711\n",
      "[13]\tvalidation_0-merror:0.550931\tvalidation_1-merror:0.810151\n",
      "[14]\tvalidation_0-merror:0.550512\tvalidation_1-merror:0.809175\n",
      "[15]\tvalidation_0-merror:0.536499\tvalidation_1-merror:0.810639\n",
      "[16]\tvalidation_0-merror:0.528341\tvalidation_1-merror:0.809663\n",
      "[17]\tvalidation_0-merror:0.527296\tvalidation_1-merror:0.807223\n",
      "[18]\tvalidation_0-merror:0.522485\tvalidation_1-merror:0.805271\n",
      "[19]\tvalidation_0-merror:0.510354\tvalidation_1-merror:0.805759\n",
      "[20]\tvalidation_0-merror:0.506589\tvalidation_1-merror:0.805759\n",
      "[21]\tvalidation_0-merror:0.502614\tvalidation_1-merror:0.808199\n",
      "[22]\tvalidation_0-merror:0.498222\tvalidation_1-merror:0.806247\n",
      "[23]\tvalidation_0-merror:0.491111\tvalidation_1-merror:0.803807\n",
      "[24]\tvalidation_0-merror:0.487555\tvalidation_1-merror:0.803319\n",
      "[25]\tvalidation_0-merror:0.487973\tvalidation_1-merror:0.804783\n",
      "[26]\tvalidation_0-merror:0.486091\tvalidation_1-merror:0.806735\n",
      "[27]\tvalidation_0-merror:0.479398\tvalidation_1-merror:0.804783\n",
      "[28]\tvalidation_0-merror:0.471449\tvalidation_1-merror:0.801855\n",
      "[29]\tvalidation_0-merror:0.470613\tvalidation_1-merror:0.79795\n",
      "[30]\tvalidation_0-merror:0.464756\tvalidation_1-merror:0.796486\n",
      "[31]\tvalidation_0-merror:0.466639\tvalidation_1-merror:0.795998\n",
      "[32]\tvalidation_0-merror:0.46141\tvalidation_1-merror:0.794534\n",
      "[33]\tvalidation_0-merror:0.458481\tvalidation_1-merror:0.79307\n",
      "[34]\tvalidation_0-merror:0.456181\tvalidation_1-merror:0.796974\n",
      "[35]\tvalidation_0-merror:0.453671\tvalidation_1-merror:0.798926\n",
      "[36]\tvalidation_0-merror:0.447396\tvalidation_1-merror:0.794046\n",
      "[37]\tvalidation_0-merror:0.445304\tvalidation_1-merror:0.793558\n",
      "[38]\tvalidation_0-merror:0.44133\tvalidation_1-merror:0.791606\n",
      "[39]\tvalidation_0-merror:0.439448\tvalidation_1-merror:0.79551\n",
      "[40]\tvalidation_0-merror:0.439657\tvalidation_1-merror:0.79307\n",
      "[41]\tvalidation_0-merror:0.434846\tvalidation_1-merror:0.785749\n",
      "[42]\tvalidation_0-merror:0.432755\tvalidation_1-merror:0.789653\n",
      "[43]\tvalidation_0-merror:0.429408\tvalidation_1-merror:0.79063\n",
      "[44]\tvalidation_0-merror:0.427944\tvalidation_1-merror:0.79307\n",
      "[45]\tvalidation_0-merror:0.426061\tvalidation_1-merror:0.789165\n",
      "[46]\tvalidation_0-merror:0.424597\tvalidation_1-merror:0.789165\n",
      "[47]\tvalidation_0-merror:0.420205\tvalidation_1-merror:0.793558\n",
      "[48]\tvalidation_0-merror:0.419787\tvalidation_1-merror:0.792582\n",
      "[49]\tvalidation_0-merror:0.418532\tvalidation_1-merror:0.794046\n",
      "[50]\tvalidation_0-merror:0.417904\tvalidation_1-merror:0.792094\n",
      "[51]\tvalidation_0-merror:0.417486\tvalidation_1-merror:0.789653\n",
      "[52]\tvalidation_0-merror:0.41393\tvalidation_1-merror:0.787701\n",
      "[53]\tvalidation_0-merror:0.414139\tvalidation_1-merror:0.788677\n",
      "[54]\tvalidation_0-merror:0.413303\tvalidation_1-merror:0.792094\n",
      "[55]\tvalidation_0-merror:0.410793\tvalidation_1-merror:0.790142\n",
      "[56]\tvalidation_0-merror:0.409538\tvalidation_1-merror:0.792582\n",
      "[57]\tvalidation_0-merror:0.409329\tvalidation_1-merror:0.790142\n",
      "[58]\tvalidation_0-merror:0.409119\tvalidation_1-merror:0.79551\n",
      "[59]\tvalidation_0-merror:0.407237\tvalidation_1-merror:0.792094\n",
      "[60]\tvalidation_0-merror:0.405773\tvalidation_1-merror:0.793558\n",
      "[61]\tvalidation_0-merror:0.405773\tvalidation_1-merror:0.791118\n",
      "Stopping. Best iteration:\n",
      "[41]\tvalidation_0-merror:0.434846\tvalidation_1-merror:0.785749\n",
      "\n"
     ]
    },
    {
     "name": "stderr",
     "output_type": "stream",
     "text": [
      "/Applications/anaconda3/lib/python3.6/site-packages/sklearn/preprocessing/label.py:151: DeprecationWarning: The truth value of an empty array is ambiguous. Returning False, but in future this will result in an error. Use `array.size > 0` to check that an array is not empty.\n",
      "  if diff:\n",
      "/Applications/anaconda3/lib/python3.6/site-packages/sklearn/preprocessing/label.py:151: DeprecationWarning: The truth value of an empty array is ambiguous. Returning False, but in future this will result in an error. Use `array.size > 0` to check that an array is not empty.\n",
      "  if diff:\n",
      "[Parallel(n_jobs=1)]: Done  20 out of  20 | elapsed:  5.4min finished\n"
     ]
    },
    {
     "name": "stdout",
     "output_type": "stream",
     "text": [
      "[0]\tvalidation_0-merror:0.706547\tvalidation_1-merror:0.86286\n",
      "Multiple eval metrics have been passed: 'validation_1-merror' will be used for early stopping.\n",
      "\n",
      "Will train until validation_1-merror hasn't improved in 20 rounds.\n",
      "[1]\tvalidation_0-merror:0.635223\tvalidation_1-merror:0.829673\n",
      "[2]\tvalidation_0-merror:0.581259\tvalidation_1-merror:0.826257\n",
      "[3]\tvalidation_0-merror:0.564526\tvalidation_1-merror:0.81308\n",
      "[4]\tvalidation_0-merror:0.530015\tvalidation_1-merror:0.811615\n",
      "[5]\tvalidation_0-merror:0.507007\tvalidation_1-merror:0.798926\n",
      "[6]\tvalidation_0-merror:0.480234\tvalidation_1-merror:0.801367\n",
      "[7]\tvalidation_0-merror:0.465175\tvalidation_1-merror:0.802831\n",
      "[8]\tvalidation_0-merror:0.451997\tvalidation_1-merror:0.794534\n",
      "[9]\tvalidation_0-merror:0.436938\tvalidation_1-merror:0.79063\n",
      "[10]\tvalidation_0-merror:0.42899\tvalidation_1-merror:0.79063\n",
      "[11]\tvalidation_0-merror:0.416231\tvalidation_1-merror:0.792582\n",
      "[12]\tvalidation_0-merror:0.405564\tvalidation_1-merror:0.784285\n",
      "[13]\tvalidation_0-merror:0.393851\tvalidation_1-merror:0.788189\n",
      "[14]\tvalidation_0-merror:0.385903\tvalidation_1-merror:0.786237\n",
      "[15]\tvalidation_0-merror:0.37649\tvalidation_1-merror:0.781845\n",
      "[16]\tvalidation_0-merror:0.365823\tvalidation_1-merror:0.785261\n",
      "[17]\tvalidation_0-merror:0.357247\tvalidation_1-merror:0.779893\n",
      "[18]\tvalidation_0-merror:0.352018\tvalidation_1-merror:0.784285\n",
      "[19]\tvalidation_0-merror:0.345953\tvalidation_1-merror:0.778428\n",
      "[20]\tvalidation_0-merror:0.337377\tvalidation_1-merror:0.782333\n",
      "[21]\tvalidation_0-merror:0.327965\tvalidation_1-merror:0.781845\n",
      "[22]\tvalidation_0-merror:0.317507\tvalidation_1-merror:0.781357\n",
      "[23]\tvalidation_0-merror:0.311441\tvalidation_1-merror:0.781357\n",
      "[24]\tvalidation_0-merror:0.307676\tvalidation_1-merror:0.782821\n",
      "[25]\tvalidation_0-merror:0.299519\tvalidation_1-merror:0.781845\n",
      "[26]\tvalidation_0-merror:0.290943\tvalidation_1-merror:0.77794\n",
      "[27]\tvalidation_0-merror:0.281949\tvalidation_1-merror:0.783309\n",
      "[28]\tvalidation_0-merror:0.277557\tvalidation_1-merror:0.784285\n",
      "[29]\tvalidation_0-merror:0.268354\tvalidation_1-merror:0.782821\n",
      "[30]\tvalidation_0-merror:0.259151\tvalidation_1-merror:0.781845\n",
      "[31]\tvalidation_0-merror:0.25434\tvalidation_1-merror:0.779893\n",
      "[32]\tvalidation_0-merror:0.249948\tvalidation_1-merror:0.77794\n",
      "[33]\tvalidation_0-merror:0.244091\tvalidation_1-merror:0.780381\n",
      "[34]\tvalidation_0-merror:0.23698\tvalidation_1-merror:0.779893\n",
      "[35]\tvalidation_0-merror:0.226312\tvalidation_1-merror:0.781845\n",
      "[36]\tvalidation_0-merror:0.223593\tvalidation_1-merror:0.780381\n",
      "[37]\tvalidation_0-merror:0.21209\tvalidation_1-merror:0.781845\n",
      "[38]\tvalidation_0-merror:0.20958\tvalidation_1-merror:0.778917\n",
      "[39]\tvalidation_0-merror:0.205606\tvalidation_1-merror:0.779405\n",
      "[40]\tvalidation_0-merror:0.201841\tvalidation_1-merror:0.784773\n",
      "[41]\tvalidation_0-merror:0.197239\tvalidation_1-merror:0.784285\n",
      "[42]\tvalidation_0-merror:0.194102\tvalidation_1-merror:0.782821\n",
      "[43]\tvalidation_0-merror:0.190546\tvalidation_1-merror:0.779405\n",
      "[44]\tvalidation_0-merror:0.188454\tvalidation_1-merror:0.780381\n",
      "[45]\tvalidation_0-merror:0.183434\tvalidation_1-merror:0.779405\n",
      "[46]\tvalidation_0-merror:0.18197\tvalidation_1-merror:0.779405\n",
      "Stopping. Best iteration:\n",
      "[26]\tvalidation_0-merror:0.290943\tvalidation_1-merror:0.77794\n",
      "\n",
      "Took 363.32462096214294 seconds.\n"
     ]
    },
    {
     "name": "stderr",
     "output_type": "stream",
     "text": [
      "/Applications/anaconda3/lib/python3.6/site-packages/sklearn/model_selection/_search.py:761: DeprecationWarning: The grid_scores_ attribute was deprecated in version 0.18 in favor of the more elaborate cv_results_ attribute. The grid_scores_ attribute will not be available from 0.20\n",
      "  DeprecationWarning)\n"
     ]
    }
   ],
   "source": [
    "start = time.time()\n",
    "\n",
    "model = xgb.XGBClassifier(**other_params)\n",
    "optimized_GBM = GridSearchCV(estimator = model, param_grid = cv_params, scoring = 'accuracy', cv = 2, verbose = 1, n_jobs = 1)\n",
    "optimized_GBM.fit(X_train, y_train, eval_set = [(X_train, y_train), (X_test, y_test)], early_stopping_rounds = 20, eval_metric = 'merror')\n",
    "evalute_result = optimized_GBM.grid_scores_\n",
    "\n",
    "print(\"Took {} seconds.\".format(time.time() - start))"
   ]
  },
  {
   "cell_type": "code",
   "execution_count": null,
   "metadata": {},
   "outputs": [],
   "source": [
    "print('每轮迭代运行结果:{0}'.format(evalute_result))\n",
    "print('参数的最佳取值：{0}'.format(optimized_GBM.best_params_))\n",
    "print('最佳模型得分:{0}'.format(optimized_GBM.best_score_))"
   ]
  },
  {
   "cell_type": "code",
   "execution_count": null,
   "metadata": {
    "collapsed": true
   },
   "outputs": [],
   "source": []
  },
  {
   "cell_type": "code",
   "execution_count": null,
   "metadata": {
    "collapsed": true
   },
   "outputs": [],
   "source": []
  },
  {
   "cell_type": "code",
   "execution_count": 33,
   "metadata": {},
   "outputs": [
    {
     "name": "stdout",
     "output_type": "stream",
     "text": [
      "[0]\tvalidation_0-merror:0.750261\tvalidation_1-merror:0.809663\n",
      "[1]\tvalidation_0-merror:0.745032\tvalidation_1-merror:0.815032\n",
      "[2]\tvalidation_0-merror:0.740431\tvalidation_1-merror:0.805759\n",
      "[3]\tvalidation_0-merror:0.738339\tvalidation_1-merror:0.806735\n",
      "[4]\tvalidation_0-merror:0.731646\tvalidation_1-merror:0.803319\n",
      "[5]\tvalidation_0-merror:0.726835\tvalidation_1-merror:0.798438\n",
      "[6]\tvalidation_0-merror:0.723907\tvalidation_1-merror:0.796486\n",
      "[7]\tvalidation_0-merror:0.720561\tvalidation_1-merror:0.796486\n",
      "[8]\tvalidation_0-merror:0.720561\tvalidation_1-merror:0.79063\n",
      "[9]\tvalidation_0-merror:0.716168\tvalidation_1-merror:0.79307\n",
      "[10]\tvalidation_0-merror:0.711776\tvalidation_1-merror:0.792582\n",
      "[11]\tvalidation_0-merror:0.70822\tvalidation_1-merror:0.79551\n",
      "[12]\tvalidation_0-merror:0.706547\tvalidation_1-merror:0.79307\n",
      "[13]\tvalidation_0-merror:0.707174\tvalidation_1-merror:0.79307\n",
      "[14]\tvalidation_0-merror:0.701318\tvalidation_1-merror:0.793558\n",
      "[15]\tvalidation_0-merror:0.698808\tvalidation_1-merror:0.791606\n",
      "[16]\tvalidation_0-merror:0.694834\tvalidation_1-merror:0.789653\n",
      "[17]\tvalidation_0-merror:0.693579\tvalidation_1-merror:0.790142\n",
      "[18]\tvalidation_0-merror:0.692742\tvalidation_1-merror:0.789165\n",
      "[19]\tvalidation_0-merror:0.688141\tvalidation_1-merror:0.788189\n",
      "[20]\tvalidation_0-merror:0.685421\tvalidation_1-merror:0.787701\n",
      "[21]\tvalidation_0-merror:0.682702\tvalidation_1-merror:0.788189\n",
      "[22]\tvalidation_0-merror:0.678101\tvalidation_1-merror:0.788189\n",
      "[23]\tvalidation_0-merror:0.673708\tvalidation_1-merror:0.790142\n",
      "[24]\tvalidation_0-merror:0.669107\tvalidation_1-merror:0.791118\n",
      "[25]\tvalidation_0-merror:0.669316\tvalidation_1-merror:0.791118\n",
      "[26]\tvalidation_0-merror:0.664087\tvalidation_1-merror:0.788677\n",
      "[27]\tvalidation_0-merror:0.662414\tvalidation_1-merror:0.789653\n",
      "[28]\tvalidation_0-merror:0.662414\tvalidation_1-merror:0.788189\n",
      "[29]\tvalidation_0-merror:0.65823\tvalidation_1-merror:0.788189\n",
      "[30]\tvalidation_0-merror:0.654884\tvalidation_1-merror:0.784773\n",
      "[31]\tvalidation_0-merror:0.653001\tvalidation_1-merror:0.785749\n",
      "[32]\tvalidation_0-merror:0.651537\tvalidation_1-merror:0.782333\n",
      "[33]\tvalidation_0-merror:0.649237\tvalidation_1-merror:0.783309\n",
      "[34]\tvalidation_0-merror:0.646936\tvalidation_1-merror:0.782821\n",
      "[35]\tvalidation_0-merror:0.64338\tvalidation_1-merror:0.782821\n",
      "[36]\tvalidation_0-merror:0.637105\tvalidation_1-merror:0.783309\n",
      "[37]\tvalidation_0-merror:0.640243\tvalidation_1-merror:0.782333\n",
      "[38]\tvalidation_0-merror:0.637733\tvalidation_1-merror:0.782821\n",
      "[39]\tvalidation_0-merror:0.637105\tvalidation_1-merror:0.782333\n",
      "[40]\tvalidation_0-merror:0.634177\tvalidation_1-merror:0.781357\n",
      "[41]\tvalidation_0-merror:0.634177\tvalidation_1-merror:0.782821\n",
      "[42]\tvalidation_0-merror:0.633131\tvalidation_1-merror:0.781357\n",
      "[43]\tvalidation_0-merror:0.63104\tvalidation_1-merror:0.781357\n",
      "[44]\tvalidation_0-merror:0.630621\tvalidation_1-merror:0.778917\n",
      "[45]\tvalidation_0-merror:0.628111\tvalidation_1-merror:0.784285\n",
      "[46]\tvalidation_0-merror:0.626647\tvalidation_1-merror:0.782821\n",
      "[47]\tvalidation_0-merror:0.625183\tvalidation_1-merror:0.780869\n",
      "[48]\tvalidation_0-merror:0.627065\tvalidation_1-merror:0.780869\n",
      "[49]\tvalidation_0-merror:0.623091\tvalidation_1-merror:0.780869\n",
      "[50]\tvalidation_0-merror:0.618908\tvalidation_1-merror:0.778917\n",
      "[51]\tvalidation_0-merror:0.617235\tvalidation_1-merror:0.778917\n",
      "[52]\tvalidation_0-merror:0.614934\tvalidation_1-merror:0.781357\n",
      "[53]\tvalidation_0-merror:0.614097\tvalidation_1-merror:0.780869\n",
      "[54]\tvalidation_0-merror:0.610123\tvalidation_1-merror:0.780869\n",
      "[55]\tvalidation_0-merror:0.609078\tvalidation_1-merror:0.779405\n",
      "[56]\tvalidation_0-merror:0.606149\tvalidation_1-merror:0.781845\n",
      "[57]\tvalidation_0-merror:0.604685\tvalidation_1-merror:0.780381\n",
      "[58]\tvalidation_0-merror:0.602803\tvalidation_1-merror:0.778428\n",
      "[59]\tvalidation_0-merror:0.600502\tvalidation_1-merror:0.779893\n",
      "[60]\tvalidation_0-merror:0.598201\tvalidation_1-merror:0.778917\n",
      "[61]\tvalidation_0-merror:0.595482\tvalidation_1-merror:0.779405\n",
      "[62]\tvalidation_0-merror:0.593181\tvalidation_1-merror:0.780381\n",
      "[63]\tvalidation_0-merror:0.591299\tvalidation_1-merror:0.781845\n",
      "[64]\tvalidation_0-merror:0.591508\tvalidation_1-merror:0.781357\n",
      "[65]\tvalidation_0-merror:0.589626\tvalidation_1-merror:0.783797\n",
      "[66]\tvalidation_0-merror:0.587743\tvalidation_1-merror:0.781357\n",
      "[67]\tvalidation_0-merror:0.585861\tvalidation_1-merror:0.781357\n",
      "[68]\tvalidation_0-merror:0.584606\tvalidation_1-merror:0.783309\n",
      "[69]\tvalidation_0-merror:0.582096\tvalidation_1-merror:0.782821\n",
      "[70]\tvalidation_0-merror:0.579377\tvalidation_1-merror:0.782821\n",
      "[71]\tvalidation_0-merror:0.576448\tvalidation_1-merror:0.782333\n",
      "[72]\tvalidation_0-merror:0.575193\tvalidation_1-merror:0.780869\n",
      "[73]\tvalidation_0-merror:0.572265\tvalidation_1-merror:0.783309\n",
      "[74]\tvalidation_0-merror:0.570383\tvalidation_1-merror:0.781845\n",
      "[75]\tvalidation_0-merror:0.566827\tvalidation_1-merror:0.781357\n",
      "[76]\tvalidation_0-merror:0.564317\tvalidation_1-merror:0.781845\n",
      "[77]\tvalidation_0-merror:0.562435\tvalidation_1-merror:0.783309\n",
      "[78]\tvalidation_0-merror:0.559716\tvalidation_1-merror:0.781845\n",
      "[79]\tvalidation_0-merror:0.559088\tvalidation_1-merror:0.783309\n",
      "Took 45.622637033462524 seconds.\n"
     ]
    }
   ],
   "source": [
    "start = time.time()\n",
    "model = xgb.XGBClassifier(learning_rate = 0.05, n_estimators = 80)\n",
    "model.fit(X_train, y_train, eval_set=[(X_train, y_train), (X_test, y_test)], eval_metric = 'merror')\n",
    "\n",
    "print(\"Took {} seconds.\".format(time.time() - start))"
   ]
  },
  {
   "cell_type": "code",
   "execution_count": 34,
   "metadata": {},
   "outputs": [
    {
     "name": "stderr",
     "output_type": "stream",
     "text": [
      "/Applications/anaconda3/lib/python3.6/site-packages/sklearn/preprocessing/label.py:151: DeprecationWarning: The truth value of an empty array is ambiguous. Returning False, but in future this will result in an error. Use `array.size > 0` to check that an array is not empty.\n",
      "  if diff:\n"
     ]
    },
    {
     "data": {
      "text/plain": [
       "0.44091194310813636"
      ]
     },
     "execution_count": 34,
     "metadata": {},
     "output_type": "execute_result"
    }
   ],
   "source": [
    "model.score(X_train,y_train)"
   ]
  },
  {
   "cell_type": "code",
   "execution_count": 35,
   "metadata": {},
   "outputs": [
    {
     "name": "stderr",
     "output_type": "stream",
     "text": [
      "/Applications/anaconda3/lib/python3.6/site-packages/sklearn/preprocessing/label.py:151: DeprecationWarning: The truth value of an empty array is ambiguous. Returning False, but in future this will result in an error. Use `array.size > 0` to check that an array is not empty.\n",
      "  if diff:\n"
     ]
    },
    {
     "data": {
      "text/plain": [
       "0.21669106881405564"
      ]
     },
     "execution_count": 35,
     "metadata": {},
     "output_type": "execute_result"
    }
   ],
   "source": [
    "model.score(X_test,y_test)"
   ]
  },
  {
   "cell_type": "code",
   "execution_count": null,
   "metadata": {
    "collapsed": true
   },
   "outputs": [],
   "source": []
  },
  {
   "cell_type": "code",
   "execution_count": 15,
   "metadata": {},
   "outputs": [
    {
     "name": "stdout",
     "output_type": "stream",
     "text": [
      "             precision    recall  f1-score   support\n",
      "\n",
      "      0-100       0.17      0.14      0.16       209\n",
      "    100-200       0.27      0.68      0.38       365\n",
      "  1000-2000       0.19      0.06      0.10       185\n",
      "10000-20000       0.16      0.06      0.09       183\n",
      "    200-500       0.27      0.33      0.29       179\n",
      "  2000-3000       0.14      0.09      0.11       207\n",
      "     20000+       0.50      0.02      0.04        46\n",
      "  3000-4000       0.22      0.01      0.03       140\n",
      "  4000-6000       0.18      0.11      0.14       228\n",
      "   500-1000       0.00      0.00      0.00        68\n",
      " 6000-10000       0.18      0.23      0.21       239\n",
      "\n",
      "avg / total       0.20      0.23      0.18      2049\n",
      "\n"
     ]
    },
    {
     "name": "stderr",
     "output_type": "stream",
     "text": [
      "/Applications/anaconda3/lib/python3.6/site-packages/sklearn/preprocessing/label.py:151: DeprecationWarning: The truth value of an empty array is ambiguous. Returning False, but in future this will result in an error. Use `array.size > 0` to check that an array is not empty.\n",
      "  if diff:\n",
      "/Applications/anaconda3/lib/python3.6/site-packages/sklearn/metrics/classification.py:1135: UndefinedMetricWarning: Precision and F-score are ill-defined and being set to 0.0 in labels with no predicted samples.\n",
      "  'precision', 'predicted', average, warn_for)\n"
     ]
    }
   ],
   "source": [
    "testing = model.predict(X_test)\n",
    "from sklearn.metrics import classification_report\n",
    "print (classification_report(y_test, testing))"
   ]
  },
  {
   "cell_type": "code",
   "execution_count": 19,
   "metadata": {
    "collapsed": true
   },
   "outputs": [],
   "source": [
    "training_proba = model.predict_proba(X_train)"
   ]
  },
  {
   "cell_type": "code",
   "execution_count": 20,
   "metadata": {
    "collapsed": true
   },
   "outputs": [],
   "source": [
    "testing_proba = model.predict_proba(X_test)"
   ]
  },
  {
   "cell_type": "code",
   "execution_count": 22,
   "metadata": {},
   "outputs": [
    {
     "data": {
      "text/plain": [
       "(4781, 11)"
      ]
     },
     "execution_count": 22,
     "metadata": {},
     "output_type": "execute_result"
    }
   ],
   "source": [
    "training_proba.shape"
   ]
  },
  {
   "cell_type": "code",
   "execution_count": 23,
   "metadata": {},
   "outputs": [
    {
     "data": {
      "text/plain": [
       "(2049, 11)"
      ]
     },
     "execution_count": 23,
     "metadata": {},
     "output_type": "execute_result"
    }
   ],
   "source": [
    "testing_proba.shape"
   ]
  },
  {
   "cell_type": "code",
   "execution_count": 24,
   "metadata": {
    "collapsed": true
   },
   "outputs": [],
   "source": [
    "np.save(\"xgboost_severitiyClass_train.npy\", training_proba)"
   ]
  },
  {
   "cell_type": "code",
   "execution_count": 25,
   "metadata": {
    "collapsed": true
   },
   "outputs": [],
   "source": [
    "np.save(\"xgboost_severitiyClass_test.npy\", testing_proba)"
   ]
  },
  {
   "cell_type": "code",
   "execution_count": null,
   "metadata": {
    "collapsed": true
   },
   "outputs": [],
   "source": []
  },
  {
   "cell_type": "code",
   "execution_count": null,
   "metadata": {
    "collapsed": true
   },
   "outputs": [],
   "source": []
  },
  {
   "cell_type": "code",
   "execution_count": null,
   "metadata": {
    "collapsed": true
   },
   "outputs": [],
   "source": []
  },
  {
   "cell_type": "code",
   "execution_count": null,
   "metadata": {
    "collapsed": true
   },
   "outputs": [],
   "source": []
  }
 ],
 "metadata": {
  "kernelspec": {
   "display_name": "Python 3",
   "language": "python",
   "name": "python3"
  },
  "language_info": {
   "codemirror_mode": {
    "name": "ipython",
    "version": 3
   },
   "file_extension": ".py",
   "mimetype": "text/x-python",
   "name": "python",
   "nbconvert_exporter": "python",
   "pygments_lexer": "ipython3",
   "version": "3.6.2"
  }
 },
 "nbformat": 4,
 "nbformat_minor": 2
}
